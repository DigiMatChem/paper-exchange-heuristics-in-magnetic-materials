{
 "cells": [
  {
   "cell_type": "markdown",
   "id": "ddfd46371a1db6d6",
   "metadata": {},
   "source": [
    "### Comparison of csms (continuous symmetry measures) both in AFM and FM subset in 90° pm x bond angles\n",
    "\n",
    "For the definition of csm see ChemEnv publication by Waroquiers et al., 10.1107/S2052520620007994\n",
    "\n",
    "Please note that non-integer occurrences of csms are possible because we do not include ligand multiplicities in the analysis and not all bond angles of an edge may lie inside the given bond angle range of the analysis.\n",
    "\n",
    "#### Summary of results\n",
    "- FM connections often have lower average and median csms than AFM connections around 90° bond angles\n",
    "- also, significantly more FM connections with csm == 0.0 than AFM\n"
   ]
  },
  {
   "cell_type": "code",
   "id": "30f5247c28409f94",
   "metadata": {
    "ExecuteTime": {
     "end_time": "2025-01-24T09:30:42.665135Z",
     "start_time": "2025-01-24T09:30:40.265184Z"
    }
   },
   "source": [
    "import json\n",
    "import math\n",
    "from monty.json import MontyDecoder\n",
    "import numpy as np\n",
    "import os\n",
    "import pandas as pd\n",
    "import plotly.graph_objects as go\n",
    "import plotly.express as px\n",
    "from pymatgen.core import Element\n",
    "\n",
    "from utils_kga.statistical_analysis.get_spin_and_bond_angle_statistics import get_bond_angle_interval_statistics, get_bond_angle_occurrences\n",
    "from utils_kga.general import pretty_plot"
   ],
   "outputs": [],
   "execution_count": 1
  },
  {
   "cell_type": "code",
   "id": "43e19ef0-c094-4213-8509-67c24377955f",
   "metadata": {
    "ExecuteTime": {
     "end_time": "2025-01-24T09:30:43.907353Z",
     "start_time": "2025-01-24T09:30:43.902797Z"
    }
   },
   "source": [
    "def weighted_lower_median(pairs):\n",
    "    thr = sum([p[1] for p in pairs]) / 2\n",
    "    pairs.sort(key = lambda p: p[0])\n",
    "    w_sums = 0\n",
    "    for a, w in pairs:\n",
    "        w_sums += w\n",
    "        if len(pairs) % 2 != 0 and w_sums > thr:\n",
    "            return a\n",
    "        elif len(pairs) % 2 == 0 and w_sums >= thr:\n",
    "            return a\n",
    "\n",
    "def weighted_avg_and_std(values, weights):\n",
    "    \"\"\"\n",
    "    Adapted from Eric O. Lebigot's answer on stackoverflow\n",
    "    https://stackoverflow.com/questions/2413522/weighted-standard-deviation-in-numpy\n",
    "    Return the weighted average and standard deviation.\n",
    "    values, weights -- NumPy ndarrays with the same shape.\n",
    "    \"\"\"\n",
    "    average = np.average(values, weights=weights)\n",
    "    variance = np.average((values-average)**2, weights=weights)\n",
    "    return average, math.sqrt(variance)"
   ],
   "outputs": [],
   "execution_count": 2
  },
  {
   "cell_type": "code",
   "id": "ed9f13ff040eab81",
   "metadata": {
    "collapsed": false,
    "jupyter": {
     "outputs_hidden": false
    },
    "ExecuteTime": {
     "end_time": "2025-01-24T09:30:49.366861Z",
     "start_time": "2025-01-24T09:30:45.228336Z"
    }
   },
   "source": [
    "# Load edge-df\n",
    "with open(\"data/dfs_of_magnetic_edge_information.json\") as f:\n",
    "    dict_all_stats = json.load(f)\n",
    "all_stats = {key: pd.DataFrame.from_dict(df) for key, df in dict_all_stats.items()}\n",
    "\n",
    "# For metadata filtering\n",
    "with open(\"../../data_retrieval_and_preprocessing_MAGNDATA/data/df_grouped_and_chosen_commensurate_MAGNDATA.json\") as f:\n",
    "    df = json.load(f, cls=MontyDecoder)\n",
    "\n",
    "plot_dir = \"plots/TM_octahedra_analysis_csms\"\n",
    "os.makedirs(plot_dir, exist_ok=True)"
   ],
   "outputs": [],
   "execution_count": 3
  },
  {
   "cell_type": "code",
   "id": "e68af73ac00d2f82",
   "metadata": {
    "collapsed": false,
    "jupyter": {
     "outputs_hidden": false
    },
    "ExecuteTime": {
     "end_time": "2025-01-24T09:30:50.825977Z",
     "start_time": "2025-01-24T09:30:49.373534Z"
    }
   },
   "source": [
    "# Add is_tm bool for later easier analysis\n",
    "for ang_df in all_stats.values():\n",
    "    ang_df[\"spin_angle\"] = ang_df[\"spin_angle\"].apply(lambda x: round(x, 0))\n",
    "    ang_df[\"site_is_tm\"] = ang_df[\"site_element\"].apply(lambda el: Element(el).is_transition_metal)\n",
    "    ang_df[\"site_to_is_tm\"] = ang_df[\"site_to_element\"].apply(lambda el: Element(el).is_transition_metal)\n",
    "    ang_df[\"ligand_el_set\"] = ang_df[\"ligand_elements\"].apply(lambda ls: set(ls))\n",
    "    \n",
    "    ang_df.drop(columns=[c for c in ang_df.columns if \"clude_ligand\" in c], inplace=True)"
   ],
   "outputs": [],
   "execution_count": 4
  },
  {
   "cell_type": "code",
   "id": "259ff25a-e6e2-4144-8510-3cba4de6720e",
   "metadata": {
    "ExecuteTime": {
     "end_time": "2025-01-24T09:30:50.851880Z",
     "start_time": "2025-01-24T09:30:50.848738Z"
    }
   },
   "source": [
    "description = [\n",
    "    \"all edges with TM octahedra at both nodes\",\n",
    "    \"all oxygen edges with TM octahedra at both nodes\",\n",
    "]\n",
    "\n",
    "colors = px.colors.qualitative.Plotly"
   ],
   "outputs": [],
   "execution_count": 5
  },
  {
   "cell_type": "code",
   "id": "c6cb9c9ee94c1711",
   "metadata": {
    "ExecuteTime": {
     "end_time": "2025-01-24T09:31:02.627785Z",
     "start_time": "2025-01-24T09:30:50.918066Z"
    }
   },
   "source": [
    "normalize_string = \"absolute occurrences\"\n",
    "for bond_angle_range90 in [[89, 91], [85, 95], [80, 100], [75, 100]]:\n",
    "    for ligand_multiplicity_bool, ligand_multiplicity_string in zip([False], [\"no ligand multiplicity included\"]):\n",
    "        for data_string in description:\n",
    "            print(\"------------- bond angle interval (deg): \", bond_angle_range90, \"-----------------\")\n",
    "            print(data_string)\n",
    "            csms = {\"FM\": [], \"AFM\": []}\n",
    "            n_compounds = {\"FM\": 0, \"AFM\": 0}\n",
    "            for md_id, ang_df in all_stats.items():\n",
    "                subdf = ang_df.loc[(ang_df[\"site_ce\"]==\"O:6\") \n",
    "                       & (ang_df[\"site_to_ce\"]==\"O:6\")\n",
    "                       & (ang_df[\"site_is_tm\"]) \n",
    "                       & (ang_df[\"site_to_is_tm\"])\n",
    "                ]\n",
    "                if \"oxygen\" in data_string:\n",
    "                    subdf = subdf.loc[subdf[\"ligand_el_set\"]=={\"O\"}]\n",
    "                    \n",
    "                n_lattice_points = df.at[md_id, \"n_lattice_points\"]\n",
    "                \n",
    "                for mag_string, spin_angle_condition in zip([\"FM\", \"AFM\"], [subdf[\"spin_angle\"]<=10.0, subdf[\"spin_angle\"]>=170.0]):\n",
    "                    magnet_df = subdf.loc[spin_angle_condition]\n",
    "                    occus = get_bond_angle_interval_statistics(df=magnet_df, include_ligand_multiplicity=ligand_multiplicity_bool,\n",
    "                                                               analyze_column=\"site_csm\", n_lattice_points=n_lattice_points,\n",
    "                                                               bond_angle_interval=bond_angle_range90)\n",
    "                    if occus:\n",
    "                        csms[mag_string].extend(occus)\n",
    "                        n_compounds[mag_string] += 1\n",
    "                    \n",
    "            one_d_fig = go.Figure(layout=go.Layout(xaxis=go.layout.XAxis(title=\"csm\"),\n",
    "                                                       yaxis=go.layout.YAxis(title=\"Occurrence\"),\n",
    "                                                       title=f\"{data_string}, {ligand_multiplicity_string}, {normalize_string}, bond angles={bond_angle_range90}, n_compounds={n_compounds}\"))\n",
    "            for mag_idx, mag_string in enumerate([\"FM\", \"AFM\"]):\n",
    "                mag_df = pd.DataFrame(columns=[\"site_csm\", \"occurrence\"], data=csms[mag_string])\n",
    "                perfect_octs = mag_df.loc[mag_df[\"site_csm\"]<0.02][\"occurrence\"].values.sum()\n",
    "                all_octs = mag_df[\"occurrence\"].values.sum()\n",
    "                print(f\"{mag_string}: perfect octahedra percentage: {perfect_octs/all_octs} ({perfect_octs} out of {all_octs} with n_structures: \", n_compounds[mag_string])\n",
    "                av = np.average(mag_df[\"site_csm\"], weights=mag_df[\"occurrence\"])\n",
    "                median = weighted_lower_median(csms[mag_string])\n",
    "                print(f\"{mag_string} csm av: {av}\")\n",
    "                print(f\"{mag_string} csm lower median: {median}\")\n",
    "                one_d_fig.add_trace(go.Histogram(\n",
    "                    histfunc=\"sum\",\n",
    "                    x=mag_df[\"site_csm\"].values,\n",
    "                    y=mag_df[\"occurrence\"].values,\n",
    "                    name=mag_string,\n",
    "                    marker_color= colors[mag_idx]\n",
    "                ))\n",
    "                for stat, stat_string in zip([av, median], [\"av\", \"median\"]):\n",
    "                    one_d_fig.add_trace(go.Scatter(\n",
    "                        x=[stat, stat],\n",
    "                        y=[0, 100],\n",
    "                        mode=\"lines\",\n",
    "                        marker_color=colors[mag_idx+2],\n",
    "                        name=mag_string + f\" {stat_string} ({round(stat, 2)})\"\n",
    "                    ))\n",
    "            one_d_fig = pretty_plot(one_d_fig)\n",
    "            one_d_fig.update_layout(title=dict(font=dict(size=10)))\n",
    "            one_d_fig.write_html(os.path.join(plot_dir, f\"csms_{data_string}_{bond_angle_range90[0]}-{bond_angle_range90[1]}-deg_bond_angles.html\"))"
   ],
   "outputs": [
    {
     "name": "stdout",
     "output_type": "stream",
     "text": [
      "------------- bond angle interval (deg):  [89, 91] -----------------\n",
      "all edges with TM octahedra at both nodes\n",
      "FM: perfect octahedra percentage: 0.6460674157303371 (230.0 out of 356.0 with n_structures:  28\n",
      "FM csm av: 0.19696629213483147\n",
      "FM csm lower median: 0.01\n",
      "AFM: perfect octahedra percentage: 0.4285714285714286 (130.0 out of 303.3333333333333 with n_structures:  30\n",
      "AFM csm av: 0.3625164835164835\n",
      "AFM csm lower median: 0.33\n",
      "------------- bond angle interval (deg):  [89, 91] -----------------\n",
      "all oxygen edges with TM octahedra at both nodes\n",
      "FM: perfect octahedra percentage: 0.46302250803858525 (96.0 out of 207.33333333333331 with n_structures:  16\n",
      "FM csm av: 0.29308681672025727\n",
      "FM csm lower median: 0.2\n",
      "AFM: perfect octahedra percentage: 0.23076923076923078 (48.0 out of 208.0 with n_structures:  20\n",
      "AFM csm av: 0.42600961538461546\n",
      "AFM csm lower median: 0.34\n",
      "------------- bond angle interval (deg):  [85, 95] -----------------\n",
      "all edges with TM octahedra at both nodes\n",
      "FM: perfect octahedra percentage: 0.20621637776449495 (230.0 out of 1115.3333333333333 with n_structures:  81\n",
      "FM csm av: 0.49181410639569645\n",
      "FM csm lower median: 0.3\n",
      "AFM: perfect octahedra percentage: 0.14356087262491204 (136.0 out of 947.3333333333333 with n_structures:  64\n",
      "AFM csm av: 0.5830717804363124\n",
      "AFM csm lower median: 0.38\n",
      "------------- bond angle interval (deg):  [85, 95] -----------------\n",
      "all oxygen edges with TM octahedra at both nodes\n",
      "FM: perfect octahedra percentage: 0.12926391382405744 (96.0 out of 742.6666666666667 with n_structures:  52\n",
      "FM csm av: 0.6083797127468581\n",
      "FM csm lower median: 0.38\n",
      "AFM: perfect octahedra percentage: 0.06060606060606061 (48.0 out of 792.0 with n_structures:  48\n",
      "AFM csm av: 0.6433964646464648\n",
      "AFM csm lower median: 0.5\n",
      "------------- bond angle interval (deg):  [80, 100] -----------------\n",
      "all edges with TM octahedra at both nodes\n",
      "FM: perfect octahedra percentage: 0.13377278014734395 (230.0 out of 1719.3333333333333 with n_structures:  126\n",
      "FM csm av: 0.6072838309422257\n",
      "FM csm lower median: 0.41\n",
      "AFM: perfect octahedra percentage: 0.0895129442738043 (136.0 out of 1519.3333333333335 with n_structures:  108\n",
      "AFM csm av: 0.6493067134708205\n",
      "AFM csm lower median: 0.51\n",
      "------------- bond angle interval (deg):  [80, 100] -----------------\n",
      "all oxygen edges with TM octahedra at both nodes\n",
      "FM: perfect octahedra percentage: 0.07615018508725543 (96.0 out of 1260.6666666666665 with n_structures:  87\n",
      "FM csm av: 0.6976705446853517\n",
      "FM csm lower median: 0.49\n",
      "AFM: perfect octahedra percentage: 0.03709428129829984 (48.0 out of 1294.0 with n_structures:  85\n",
      "AFM csm av: 0.6941885625965997\n",
      "AFM csm lower median: 0.53\n",
      "------------- bond angle interval (deg):  [75, 100] -----------------\n",
      "all edges with TM octahedra at both nodes\n",
      "FM: perfect octahedra percentage: 0.12858740216175923 (230.0 out of 1788.6666666666665 with n_structures:  128\n",
      "FM csm av: 0.6064312336936266\n",
      "FM csm lower median: 0.42\n",
      "AFM: perfect octahedra percentage: 0.08721675929884565 (136.0 out of 1559.3333333333335 with n_structures:  110\n",
      "AFM csm av: 0.6420906370243693\n",
      "AFM csm lower median: 0.5\n",
      "------------- bond angle interval (deg):  [75, 100] -----------------\n",
      "all oxygen edges with TM octahedra at both nodes\n",
      "FM: perfect octahedra percentage: 0.07511737089201878 (96.0 out of 1278.0 with n_structures:  88\n",
      "FM csm av: 0.6978951486697967\n",
      "FM csm lower median: 0.49\n",
      "AFM: perfect octahedra percentage: 0.03686635944700461 (48.0 out of 1302.0 with n_structures:  85\n",
      "AFM csm av: 0.6938248847926267\n",
      "AFM csm lower median: 0.53\n"
     ]
    }
   ],
   "execution_count": 6
  },
  {
   "cell_type": "code",
   "id": "c41b333f-f1dd-4d78-9501-a6014382da45",
   "metadata": {
    "ExecuteTime": {
     "end_time": "2025-01-24T09:32:15.287392Z",
     "start_time": "2025-01-24T09:32:13.486281Z"
    }
   },
   "source": [
    "# What is std of distribution of lower bond angles in FM and AFM interactions?\n",
    "for normalize_bool, normalize_string in zip([False], [\"absolute occurrences\"]):\n",
    "    for ligand_multiplicity_bool, ligand_multiplicity_string in zip([False], [\"no ligand multiplicity included\"]):\n",
    "        for data_string in description[:1]:\n",
    "            all_spin_occus = []\n",
    "            for md_id, ang_df in all_stats.items():\n",
    "                subdf = ang_df.loc[(ang_df[\"site_ce\"]==\"O:6\")\n",
    "                       & (ang_df[\"site_to_ce\"]==\"O:6\")\n",
    "                       & (ang_df[\"site_is_tm\"])\n",
    "                       & (ang_df[\"site_to_is_tm\"])\n",
    "                ]\n",
    "                if \"oxygen\" in data_string:\n",
    "                    subdf = subdf.loc[subdf[\"ligand_el_set\"]=={\"O\"}]\n",
    "                if not subdf.empty:\n",
    "                    n_lattice_points = df.at[md_id, \"n_lattice_points\"]\n",
    "                    occus = get_bond_angle_occurrences(df=subdf,\n",
    "                                                                     include_ligand_multiplicity=ligand_multiplicity_bool,\n",
    "                                                                     normalize=normalize_bool,\n",
    "                                                                     n_lattice_points=n_lattice_points,\n",
    "                                                                     spin_angle_round=0,\n",
    "                                                                     bond_angle_round=7)\n",
    "                    all_spin_occus.extend(occus)\n",
    "            print(\"------\")\n",
    "            print(data_string, normalize_string, ligand_multiplicity_string)\n",
    "            all_spin_occus_df = pd.DataFrame(columns=[\"spin_angle\", \"bond_angle\", \"occurrence\"], data=all_spin_occus)\n",
    "\n",
    "            all_spin_occus_df = all_spin_occus_df.loc[(all_spin_occus_df[\"bond_angle\"] <= 105) & (all_spin_occus_df[\"bond_angle\"] >= 75)]\n",
    "            fm_occus = all_spin_occus_df.loc[all_spin_occus_df[\"spin_angle\"] <= 10]\n",
    "            afm_occus = all_spin_occus_df.loc[all_spin_occus_df[\"spin_angle\"] >= 170]\n",
    "\n",
    "            # Zoomed-in bond angle plot\n",
    "            for magdf, magstring in zip([afm_occus, fm_occus], [\"AFM\", \"FM\"]):\n",
    "                one_d_fig = go.Figure(layout=go.Layout(xaxis=go.layout.XAxis(title=\"Bond angle (°)\"),\n",
    "                                                           yaxis=go.layout.YAxis(title=\"Occurrence\"),\n",
    "                                                           title=f\"{data_string}, {ligand_multiplicity_string}, {normalize_string}, approx. {magstring}\"))\n",
    "                one_d_fig.add_trace(go.Histogram(\n",
    "                    histfunc=\"sum\",\n",
    "                    x=magdf[\"bond_angle\"].values,\n",
    "                    y=magdf[\"occurrence\"].values,\n",
    "                    xbins=dict(\n",
    "                      start=75.5,\n",
    "                      end=104.5,\n",
    "                      size=1.0), # ensure binning with centers at integer bond angle values\n",
    "                    autobinx=False,\n",
    "                    showlegend=False,\n",
    "                    marker_color=\"#025268\"\n",
    "                ))\n",
    "                one_d_fig.add_trace(go.Scatter(\n",
    "                    x=[90, 90],\n",
    "                    y=[0, 295],\n",
    "                    mode=\"lines\",\n",
    "                    marker_color=\"#B61F1C\",\n",
    "                    showlegend=False\n",
    "                ))\n",
    "                one_d_fig = pretty_plot(one_d_fig)\n",
    "                one_d_fig.update_layout(title=dict(font=dict(size=10)))\n",
    "\n",
    "                one_d_fig.update_layout(yaxis_range=[0, 295])\n",
    "                one_d_fig.update_yaxes(zeroline=False)\n",
    "                one_d_fig.update_layout(autosize=False, width=500, height=500)\n",
    "                one_d_fig.show()\n",
    "                one_d_fig.write_image(os.path.join(plot_dir, f\"bond_angles_close_to_90_deg_{data_string}_{normalize_string}_{ligand_multiplicity_string}_{magstring}_10_deg_tol.pdf\"))\n",
    "\n",
    "            for o in [afm_occus, fm_occus]:\n",
    "                print(weighted_avg_and_std(o[\"bond_angle\"].values, o[\"occurrence\"].values))"
   ],
   "outputs": [
    {
     "name": "stdout",
     "output_type": "stream",
     "text": [
      "------\n",
      "all edges with TM octahedra at both nodes absolute occurrences no ligand multiplicity included\n"
     ]
    },
    {
     "data": {
      "application/vnd.plotly.v1+json": {
       "data": [
        {
         "autobinx": false,
         "histfunc": "sum",
         "marker": {
          "color": "#025268"
         },
         "showlegend": false,
         "x": [
          90.5755642,
          95.4287833,
          98.3179324,
          92.2261056,
          91.9111445,
          85.7143407,
          94.0191128,
          102.3212524,
          84.4596099,
          83.5640704,
          87.9536768,
          84.7014792,
          96.7479617,
          92.380768,
          94.7455009,
          99.7213673,
          103.0371369,
          92.9773722,
          100.5173721,
          89.340153,
          102.1359428,
          94.6842049,
          94.6667316,
          89.6517407,
          94.4910139,
          95.9413143,
          99.8191625,
          94.757738,
          93.4478968,
          91.4481562,
          93.1782924,
          102.2876756,
          94.2234847,
          77.4443655,
          88.7531658,
          94.5898377,
          99.9676913,
          103.3604798,
          90.2071776,
          90.0,
          89.8950094,
          91.4808005,
          99.1553616,
          88.0116211,
          90.8143882,
          85.2338447,
          90.9731454,
          99.7561226,
          97.3000057,
          82.4048589,
          93.1171841,
          86.5446972,
          86.1240259,
          86.4520642,
          101.0046074,
          83.2069148,
          80.1934274,
          82.8167526,
          97.980189,
          82.5042904,
          82.5023345,
          104.5115586,
          104.4609621,
          100.1114646,
          96.1347518,
          95.9776833,
          99.4636954,
          98.7675868,
          99.1781327,
          100.2658117,
          97.1011324,
          92.4819192,
          93.1045829,
          94.7484102,
          90.3403767,
          91.4171627,
          91.7388704,
          92.9133519,
          96.2419053,
          90.9207589,
          98.7091607,
          92.7591464,
          93.1359439,
          104.2897686,
          96.8469364,
          95.0637613,
          85.9320035,
          86.4828197,
          97.6272339,
          99.4970102,
          90.5377557,
          92.5349936,
          100.4647796,
          99.1391439,
          94.5979591,
          95.4749829,
          87.798096,
          87.7982434,
          87.7964378,
          76.0790981,
          76.0814978,
          80.0771822,
          80.0732898,
          75.883272,
          75.8815836,
          75.8796513,
          75.8815835,
          75.8832721,
          91.5461518,
          90.7033316,
          91.1303081,
          87.4630286,
          91.5984759,
          98.9652634,
          98.2555007,
          101.1309505,
          89.0609246,
          93.7336484,
          91.5190443,
          94.5956636,
          88.8989402,
          104.0351345,
          102.0460636,
          93.3554126,
          99.3042548,
          86.3755027,
          91.7463294,
          101.3313063,
          84.0297291,
          82.2080436,
          84.1547709,
          79.7001071,
          95.3334381,
          93.7041805,
          93.7947899,
          89.0643703,
          89.1579232,
          89.1568106,
          84.9078907,
          101.9243845,
          93.6404774,
          93.6443418,
          84.5992528,
          90.0,
          90.2684046,
          94.9344255,
          94.6405741,
          90.1098513,
          86.9899633,
          98.8520564,
          86.5200933,
          102.8287465,
          103.2935083,
          90.0,
          90.0301071,
          91.512306,
          87.8508304,
          97.7050491,
          90.0,
          93.2442145,
          96.1701722,
          96.1660164,
          96.1623459,
          96.1680293,
          96.163181,
          96.1746784,
          96.1735004,
          103.3249914,
          88.6809937,
          99.7335158,
          101.3353291,
          99.8792098,
          93.9939905,
          96.5332735,
          84.7429857,
          87.6971374,
          96.2222794,
          90.5472271,
          98.6594068,
          97.6413264,
          101.7065199,
          102.4189561,
          95.1409885,
          95.9285425,
          93.6676454,
          97.6344189,
          96.4506986,
          97.5695631,
          96.5455818,
          90.0,
          97.6355619,
          90.01,
          90.0,
          95.5051028,
          100.4868359,
          90.0,
          96.3973114,
          93.7748864,
          99.9039014,
          90.0712677,
          98.8602199,
          88.2989686,
          87.2522094,
          90.0189841,
          89.9652453,
          86.250613,
          89.200745,
          93.9040752,
          96.4139233,
          97.9433204,
          89.2590263,
          89.1474775,
          89.3191779,
          93.1283297,
          92.5025343,
          98.5165781,
          92.8787256,
          96.5784504,
          97.2370208,
          88.3487337,
          99.7930377,
          94.3804281,
          95.2877196,
          94.6142836,
          96.2825987,
          89.0929946,
          101.6972399,
          85.6301788,
          101.0650631,
          102.8088844,
          99.8877798,
          104.6606656,
          102.0495044,
          102.1709479,
          104.7327923,
          103.3963576,
          100.7570611,
          103.3977811,
          100.7584987,
          100.7577799,
          103.3970694,
          104.8016502,
          104.7989599,
          102.5850069,
          102.7701257,
          103.5032697,
          102.567152,
          102.5685671,
          102.5678596,
          102.569784,
          103.7284774,
          102.5686329,
          103.7286498,
          103.7264815,
          102.5671156,
          95.7483908,
          96.09258,
          96.1147936,
          83.7847535
         ],
         "xbins": {
          "end": 104.5,
          "size": 1.0,
          "start": 75.5
         },
         "y": [
          12.0,
          6.0,
          4.0,
          4.0,
          4.0,
          4.0,
          4.0,
          8.0,
          2.0,
          4.0,
          6.0,
          6.0,
          6.0,
          4.0,
          4.0,
          4.0,
          4.0,
          4.0,
          4.0,
          4.0,
          6.0,
          4.0,
          4.0,
          4.0,
          8.0,
          8.0,
          8.0,
          8.0,
          8.0,
          8.0,
          4.0,
          4.0,
          8.0,
          8.0,
          8.0,
          8.0,
          8.0,
          8.0,
          12.0,
          2.6666666666666665,
          6.0,
          6.0,
          4.0,
          12.0,
          12.0,
          6.0,
          12.0,
          8.0,
          8.0,
          4.000000000000001,
          12.0,
          8.0,
          8.0,
          4.000000000000001,
          12.0,
          2.666666666666666,
          1.3333333333333333,
          4.0,
          4.0,
          5.333333333333332,
          2.6666666666666665,
          8.0,
          8.0,
          4.0,
          8.0,
          8.0,
          4.0,
          4.0,
          4.0,
          4.0,
          2.0,
          2.0,
          2.0,
          2.0,
          2.0,
          2.0,
          2.0,
          2.0,
          2.0,
          2.0,
          2.0,
          2.0,
          2.0,
          2.0,
          2.0,
          4.0,
          8.0,
          8.0,
          8.0,
          8.0,
          4.0,
          4.0,
          4.0,
          8.0,
          6.0,
          4.0,
          12.0,
          12.0,
          12.0,
          4.0,
          7.9999999999999964,
          4.0,
          7.9999999999999964,
          2.666666666666666,
          1.3333333333333333,
          2.666666666666666,
          2.666666666666666,
          2.666666666666666,
          16.0,
          16.0,
          8.0,
          8.0,
          16.0,
          8.0,
          8.0,
          8.0,
          8.0,
          4.0,
          4.0,
          8.0,
          8.0,
          6.0,
          6.0,
          4.0,
          4.0,
          32.0,
          16.0,
          12.0,
          8.0,
          8.0,
          8.0,
          8.0,
          8.0,
          8.0,
          4.0,
          4.0,
          4.0,
          4.0,
          4.0,
          8.0,
          4.0,
          4.0,
          4.0,
          12.0,
          8.0,
          16.0,
          16.0,
          12.0,
          4.0,
          4.0,
          4.0,
          6.0,
          6.0,
          24.0,
          8.0,
          8.0,
          32.0,
          4.0,
          12.0,
          8.0,
          8.0,
          4.0,
          4.0,
          4.0,
          4.0,
          4.0,
          4.0,
          4.0,
          4.0,
          8.0,
          8.0,
          8.0,
          4.0,
          4.0,
          8.0,
          16.0,
          16.0,
          16.0,
          16.0,
          4.0,
          6.0,
          6.0,
          16.0,
          8.0,
          4.0,
          16.0,
          8.0,
          4.0,
          4.0,
          2.666666666666667,
          4.0,
          12.0,
          12.0,
          8.0,
          4.0,
          12.0,
          8.0,
          8.0,
          8.0,
          8.0,
          8.0,
          8.0,
          16.0,
          4.0,
          8.0,
          16.0,
          16.0,
          8.0,
          8.0,
          8.0,
          4.0,
          4.0,
          4.0,
          8.0,
          8.0,
          8.0,
          8.0,
          8.0,
          8.0,
          4.0,
          4.0,
          32.0,
          16.0,
          16.0,
          16.0,
          16.0,
          16.0,
          16.0,
          8.0,
          8.0,
          8.0,
          8.0,
          6.0,
          12.0,
          12.0,
          2.0,
          2.0,
          2.0,
          2.0,
          2.0,
          2.0,
          8.0,
          4.0,
          6.0,
          12.0,
          12.0,
          2.0,
          2.0,
          2.0,
          4.0,
          4.0,
          4.0,
          4.0,
          4.0,
          4.0,
          4.0,
          8.0,
          8.0,
          32.0
         ],
         "type": "histogram"
        },
        {
         "marker": {
          "color": "#B61F1C"
         },
         "mode": "lines",
         "showlegend": false,
         "x": [
          90,
          90
         ],
         "y": [
          0,
          295
         ],
         "type": "scatter"
        }
       ],
       "layout": {
        "title": {
         "text": "all edges with TM octahedra at both nodes, no ligand multiplicity included, absolute occurrences, approx. AFM",
         "font": {
          "size": 10,
          "color": "black"
         }
        },
        "xaxis": {
         "title": {
          "text": "Bond angle (°)",
          "font": {
           "size": 25,
           "color": "black"
          }
         },
         "tickfont": {
          "size": 22,
          "color": "black"
         },
         "ticks": "outside",
         "tickwidth": 1.2,
         "ticklen": 10,
         "showgrid": false,
         "showline": true,
         "mirror": true,
         "linewidth": 1.2,
         "linecolor": "black"
        },
        "yaxis": {
         "title": {
          "text": "Occurrence",
          "font": {
           "size": 25,
           "color": "black"
          }
         },
         "tickfont": {
          "size": 22,
          "color": "black"
         },
         "ticks": "outside",
         "tickwidth": 1.2,
         "ticklen": 10,
         "showgrid": false,
         "showline": true,
         "mirror": true,
         "linewidth": 1.2,
         "linecolor": "black",
         "zeroline": false,
         "zerolinecolor": "black",
         "zerolinewidth": 2,
         "range": [
          0,
          295
         ]
        },
        "template": {
         "data": {
          "histogram2dcontour": [
           {
            "type": "histogram2dcontour",
            "colorbar": {
             "outlinewidth": 0,
             "ticks": ""
            },
            "colorscale": [
             [
              0.0,
              "#0d0887"
             ],
             [
              0.1111111111111111,
              "#46039f"
             ],
             [
              0.2222222222222222,
              "#7201a8"
             ],
             [
              0.3333333333333333,
              "#9c179e"
             ],
             [
              0.4444444444444444,
              "#bd3786"
             ],
             [
              0.5555555555555556,
              "#d8576b"
             ],
             [
              0.6666666666666666,
              "#ed7953"
             ],
             [
              0.7777777777777778,
              "#fb9f3a"
             ],
             [
              0.8888888888888888,
              "#fdca26"
             ],
             [
              1.0,
              "#f0f921"
             ]
            ]
           }
          ],
          "choropleth": [
           {
            "type": "choropleth",
            "colorbar": {
             "outlinewidth": 0,
             "ticks": ""
            }
           }
          ],
          "histogram2d": [
           {
            "type": "histogram2d",
            "colorbar": {
             "outlinewidth": 0,
             "ticks": ""
            },
            "colorscale": [
             [
              0.0,
              "#0d0887"
             ],
             [
              0.1111111111111111,
              "#46039f"
             ],
             [
              0.2222222222222222,
              "#7201a8"
             ],
             [
              0.3333333333333333,
              "#9c179e"
             ],
             [
              0.4444444444444444,
              "#bd3786"
             ],
             [
              0.5555555555555556,
              "#d8576b"
             ],
             [
              0.6666666666666666,
              "#ed7953"
             ],
             [
              0.7777777777777778,
              "#fb9f3a"
             ],
             [
              0.8888888888888888,
              "#fdca26"
             ],
             [
              1.0,
              "#f0f921"
             ]
            ]
           }
          ],
          "heatmap": [
           {
            "type": "heatmap",
            "colorbar": {
             "outlinewidth": 0,
             "ticks": ""
            },
            "colorscale": [
             [
              0.0,
              "#0d0887"
             ],
             [
              0.1111111111111111,
              "#46039f"
             ],
             [
              0.2222222222222222,
              "#7201a8"
             ],
             [
              0.3333333333333333,
              "#9c179e"
             ],
             [
              0.4444444444444444,
              "#bd3786"
             ],
             [
              0.5555555555555556,
              "#d8576b"
             ],
             [
              0.6666666666666666,
              "#ed7953"
             ],
             [
              0.7777777777777778,
              "#fb9f3a"
             ],
             [
              0.8888888888888888,
              "#fdca26"
             ],
             [
              1.0,
              "#f0f921"
             ]
            ]
           }
          ],
          "heatmapgl": [
           {
            "type": "heatmapgl",
            "colorbar": {
             "outlinewidth": 0,
             "ticks": ""
            },
            "colorscale": [
             [
              0.0,
              "#0d0887"
             ],
             [
              0.1111111111111111,
              "#46039f"
             ],
             [
              0.2222222222222222,
              "#7201a8"
             ],
             [
              0.3333333333333333,
              "#9c179e"
             ],
             [
              0.4444444444444444,
              "#bd3786"
             ],
             [
              0.5555555555555556,
              "#d8576b"
             ],
             [
              0.6666666666666666,
              "#ed7953"
             ],
             [
              0.7777777777777778,
              "#fb9f3a"
             ],
             [
              0.8888888888888888,
              "#fdca26"
             ],
             [
              1.0,
              "#f0f921"
             ]
            ]
           }
          ],
          "contourcarpet": [
           {
            "type": "contourcarpet",
            "colorbar": {
             "outlinewidth": 0,
             "ticks": ""
            }
           }
          ],
          "contour": [
           {
            "type": "contour",
            "colorbar": {
             "outlinewidth": 0,
             "ticks": ""
            },
            "colorscale": [
             [
              0.0,
              "#0d0887"
             ],
             [
              0.1111111111111111,
              "#46039f"
             ],
             [
              0.2222222222222222,
              "#7201a8"
             ],
             [
              0.3333333333333333,
              "#9c179e"
             ],
             [
              0.4444444444444444,
              "#bd3786"
             ],
             [
              0.5555555555555556,
              "#d8576b"
             ],
             [
              0.6666666666666666,
              "#ed7953"
             ],
             [
              0.7777777777777778,
              "#fb9f3a"
             ],
             [
              0.8888888888888888,
              "#fdca26"
             ],
             [
              1.0,
              "#f0f921"
             ]
            ]
           }
          ],
          "surface": [
           {
            "type": "surface",
            "colorbar": {
             "outlinewidth": 0,
             "ticks": ""
            },
            "colorscale": [
             [
              0.0,
              "#0d0887"
             ],
             [
              0.1111111111111111,
              "#46039f"
             ],
             [
              0.2222222222222222,
              "#7201a8"
             ],
             [
              0.3333333333333333,
              "#9c179e"
             ],
             [
              0.4444444444444444,
              "#bd3786"
             ],
             [
              0.5555555555555556,
              "#d8576b"
             ],
             [
              0.6666666666666666,
              "#ed7953"
             ],
             [
              0.7777777777777778,
              "#fb9f3a"
             ],
             [
              0.8888888888888888,
              "#fdca26"
             ],
             [
              1.0,
              "#f0f921"
             ]
            ]
           }
          ],
          "mesh3d": [
           {
            "type": "mesh3d",
            "colorbar": {
             "outlinewidth": 0,
             "ticks": ""
            }
           }
          ],
          "scatter": [
           {
            "marker": {
             "line": {
              "color": "#283442"
             }
            },
            "type": "scatter"
           }
          ],
          "parcoords": [
           {
            "type": "parcoords",
            "line": {
             "colorbar": {
              "outlinewidth": 0,
              "ticks": ""
             }
            }
           }
          ],
          "scatterpolargl": [
           {
            "type": "scatterpolargl",
            "marker": {
             "colorbar": {
              "outlinewidth": 0,
              "ticks": ""
             }
            }
           }
          ],
          "bar": [
           {
            "error_x": {
             "color": "#f2f5fa"
            },
            "error_y": {
             "color": "#f2f5fa"
            },
            "marker": {
             "line": {
              "color": "rgb(17,17,17)",
              "width": 0.5
             },
             "pattern": {
              "fillmode": "overlay",
              "size": 10,
              "solidity": 0.2
             }
            },
            "type": "bar"
           }
          ],
          "scattergeo": [
           {
            "type": "scattergeo",
            "marker": {
             "colorbar": {
              "outlinewidth": 0,
              "ticks": ""
             }
            }
           }
          ],
          "scatterpolar": [
           {
            "type": "scatterpolar",
            "marker": {
             "colorbar": {
              "outlinewidth": 0,
              "ticks": ""
             }
            }
           }
          ],
          "histogram": [
           {
            "marker": {
             "pattern": {
              "fillmode": "overlay",
              "size": 10,
              "solidity": 0.2
             }
            },
            "type": "histogram"
           }
          ],
          "scattergl": [
           {
            "marker": {
             "line": {
              "color": "#283442"
             }
            },
            "type": "scattergl"
           }
          ],
          "scatter3d": [
           {
            "type": "scatter3d",
            "line": {
             "colorbar": {
              "outlinewidth": 0,
              "ticks": ""
             }
            },
            "marker": {
             "colorbar": {
              "outlinewidth": 0,
              "ticks": ""
             }
            }
           }
          ],
          "scattermapbox": [
           {
            "type": "scattermapbox",
            "marker": {
             "colorbar": {
              "outlinewidth": 0,
              "ticks": ""
             }
            }
           }
          ],
          "scatterternary": [
           {
            "type": "scatterternary",
            "marker": {
             "colorbar": {
              "outlinewidth": 0,
              "ticks": ""
             }
            }
           }
          ],
          "scattercarpet": [
           {
            "type": "scattercarpet",
            "marker": {
             "colorbar": {
              "outlinewidth": 0,
              "ticks": ""
             }
            }
           }
          ],
          "carpet": [
           {
            "aaxis": {
             "endlinecolor": "#A2B1C6",
             "gridcolor": "#506784",
             "linecolor": "#506784",
             "minorgridcolor": "#506784",
             "startlinecolor": "#A2B1C6"
            },
            "baxis": {
             "endlinecolor": "#A2B1C6",
             "gridcolor": "#506784",
             "linecolor": "#506784",
             "minorgridcolor": "#506784",
             "startlinecolor": "#A2B1C6"
            },
            "type": "carpet"
           }
          ],
          "table": [
           {
            "cells": {
             "fill": {
              "color": "#506784"
             },
             "line": {
              "color": "rgb(17,17,17)"
             }
            },
            "header": {
             "fill": {
              "color": "#2a3f5f"
             },
             "line": {
              "color": "rgb(17,17,17)"
             }
            },
            "type": "table"
           }
          ],
          "barpolar": [
           {
            "marker": {
             "line": {
              "color": "rgb(17,17,17)",
              "width": 0.5
             },
             "pattern": {
              "fillmode": "overlay",
              "size": 10,
              "solidity": 0.2
             }
            },
            "type": "barpolar"
           }
          ],
          "pie": [
           {
            "automargin": true,
            "type": "pie"
           }
          ]
         },
         "layout": {
          "autotypenumbers": "strict",
          "colorway": [
           "#636efa",
           "#EF553B",
           "#00cc96",
           "#ab63fa",
           "#FFA15A",
           "#19d3f3",
           "#FF6692",
           "#B6E880",
           "#FF97FF",
           "#FECB52"
          ],
          "font": {
           "color": "#f2f5fa"
          },
          "hovermode": "closest",
          "hoverlabel": {
           "align": "left"
          },
          "paper_bgcolor": "rgb(17,17,17)",
          "plot_bgcolor": "rgb(17,17,17)",
          "polar": {
           "bgcolor": "rgb(17,17,17)",
           "angularaxis": {
            "gridcolor": "#506784",
            "linecolor": "#506784",
            "ticks": ""
           },
           "radialaxis": {
            "gridcolor": "#506784",
            "linecolor": "#506784",
            "ticks": ""
           }
          },
          "ternary": {
           "bgcolor": "rgb(17,17,17)",
           "aaxis": {
            "gridcolor": "#506784",
            "linecolor": "#506784",
            "ticks": ""
           },
           "baxis": {
            "gridcolor": "#506784",
            "linecolor": "#506784",
            "ticks": ""
           },
           "caxis": {
            "gridcolor": "#506784",
            "linecolor": "#506784",
            "ticks": ""
           }
          },
          "coloraxis": {
           "colorbar": {
            "outlinewidth": 0,
            "ticks": ""
           }
          },
          "colorscale": {
           "sequential": [
            [
             0.0,
             "#0d0887"
            ],
            [
             0.1111111111111111,
             "#46039f"
            ],
            [
             0.2222222222222222,
             "#7201a8"
            ],
            [
             0.3333333333333333,
             "#9c179e"
            ],
            [
             0.4444444444444444,
             "#bd3786"
            ],
            [
             0.5555555555555556,
             "#d8576b"
            ],
            [
             0.6666666666666666,
             "#ed7953"
            ],
            [
             0.7777777777777778,
             "#fb9f3a"
            ],
            [
             0.8888888888888888,
             "#fdca26"
            ],
            [
             1.0,
             "#f0f921"
            ]
           ],
           "sequentialminus": [
            [
             0.0,
             "#0d0887"
            ],
            [
             0.1111111111111111,
             "#46039f"
            ],
            [
             0.2222222222222222,
             "#7201a8"
            ],
            [
             0.3333333333333333,
             "#9c179e"
            ],
            [
             0.4444444444444444,
             "#bd3786"
            ],
            [
             0.5555555555555556,
             "#d8576b"
            ],
            [
             0.6666666666666666,
             "#ed7953"
            ],
            [
             0.7777777777777778,
             "#fb9f3a"
            ],
            [
             0.8888888888888888,
             "#fdca26"
            ],
            [
             1.0,
             "#f0f921"
            ]
           ],
           "diverging": [
            [
             0,
             "#8e0152"
            ],
            [
             0.1,
             "#c51b7d"
            ],
            [
             0.2,
             "#de77ae"
            ],
            [
             0.3,
             "#f1b6da"
            ],
            [
             0.4,
             "#fde0ef"
            ],
            [
             0.5,
             "#f7f7f7"
            ],
            [
             0.6,
             "#e6f5d0"
            ],
            [
             0.7,
             "#b8e186"
            ],
            [
             0.8,
             "#7fbc41"
            ],
            [
             0.9,
             "#4d9221"
            ],
            [
             1,
             "#276419"
            ]
           ]
          },
          "xaxis": {
           "gridcolor": "#283442",
           "linecolor": "#506784",
           "ticks": "",
           "title": {
            "standoff": 15
           },
           "zerolinecolor": "#283442",
           "automargin": true,
           "zerolinewidth": 2
          },
          "yaxis": {
           "gridcolor": "#283442",
           "linecolor": "#506784",
           "ticks": "",
           "title": {
            "standoff": 15
           },
           "zerolinecolor": "#283442",
           "automargin": true,
           "zerolinewidth": 2
          },
          "scene": {
           "xaxis": {
            "backgroundcolor": "rgb(17,17,17)",
            "gridcolor": "#506784",
            "linecolor": "#506784",
            "showbackground": true,
            "ticks": "",
            "zerolinecolor": "#C8D4E3",
            "gridwidth": 2
           },
           "yaxis": {
            "backgroundcolor": "rgb(17,17,17)",
            "gridcolor": "#506784",
            "linecolor": "#506784",
            "showbackground": true,
            "ticks": "",
            "zerolinecolor": "#C8D4E3",
            "gridwidth": 2
           },
           "zaxis": {
            "backgroundcolor": "rgb(17,17,17)",
            "gridcolor": "#506784",
            "linecolor": "#506784",
            "showbackground": true,
            "ticks": "",
            "zerolinecolor": "#C8D4E3",
            "gridwidth": 2
           }
          },
          "shapedefaults": {
           "line": {
            "color": "#f2f5fa"
           }
          },
          "annotationdefaults": {
           "arrowcolor": "#f2f5fa",
           "arrowhead": 0,
           "arrowwidth": 1
          },
          "geo": {
           "bgcolor": "rgb(17,17,17)",
           "landcolor": "rgb(17,17,17)",
           "subunitcolor": "#506784",
           "showland": true,
           "showlakes": true,
           "lakecolor": "rgb(17,17,17)"
          },
          "title": {
           "x": 0.05
          },
          "updatemenudefaults": {
           "bgcolor": "#506784",
           "borderwidth": 0
          },
          "sliderdefaults": {
           "bgcolor": "#C8D4E3",
           "borderwidth": 1,
           "bordercolor": "rgb(17,17,17)",
           "tickwidth": 0
          },
          "mapbox": {
           "style": "dark"
          }
         }
        },
        "font": {
         "family": "Arial"
        },
        "legend": {
         "font": {
          "size": 22,
          "color": "black"
         }
        },
        "plot_bgcolor": "rgba(255,255,255,1) ",
        "paper_bgcolor": "rgba(255,255,255,1) ",
        "autosize": false,
        "width": 500,
        "height": 500
       },
       "config": {
        "plotlyServerURL": "https://plot.ly"
       }
      },
      "text/html": [
       "<div>                            <div id=\"2d5a3f49-a863-4bb6-83b7-97d3166f7e97\" class=\"plotly-graph-div\" style=\"height:500px; width:500px;\"></div>            <script type=\"text/javascript\">                require([\"plotly\"], function(Plotly) {                    window.PLOTLYENV=window.PLOTLYENV || {};                                    if (document.getElementById(\"2d5a3f49-a863-4bb6-83b7-97d3166f7e97\")) {                    Plotly.newPlot(                        \"2d5a3f49-a863-4bb6-83b7-97d3166f7e97\",                        [{\"autobinx\":false,\"histfunc\":\"sum\",\"marker\":{\"color\":\"#025268\"},\"showlegend\":false,\"x\":[90.5755642,95.4287833,98.3179324,92.2261056,91.9111445,85.7143407,94.0191128,102.3212524,84.4596099,83.5640704,87.9536768,84.7014792,96.7479617,92.380768,94.7455009,99.7213673,103.0371369,92.9773722,100.5173721,89.340153,102.1359428,94.6842049,94.6667316,89.6517407,94.4910139,95.9413143,99.8191625,94.757738,93.4478968,91.4481562,93.1782924,102.2876756,94.2234847,77.4443655,88.7531658,94.5898377,99.9676913,103.3604798,90.2071776,90.0,89.8950094,91.4808005,99.1553616,88.0116211,90.8143882,85.2338447,90.9731454,99.7561226,97.3000057,82.4048589,93.1171841,86.5446972,86.1240259,86.4520642,101.0046074,83.2069148,80.1934274,82.8167526,97.980189,82.5042904,82.5023345,104.5115586,104.4609621,100.1114646,96.1347518,95.9776833,99.4636954,98.7675868,99.1781327,100.2658117,97.1011324,92.4819192,93.1045829,94.7484102,90.3403767,91.4171627,91.7388704,92.9133519,96.2419053,90.9207589,98.7091607,92.7591464,93.1359439,104.2897686,96.8469364,95.0637613,85.9320035,86.4828197,97.6272339,99.4970102,90.5377557,92.5349936,100.4647796,99.1391439,94.5979591,95.4749829,87.798096,87.7982434,87.7964378,76.0790981,76.0814978,80.0771822,80.0732898,75.883272,75.8815836,75.8796513,75.8815835,75.8832721,91.5461518,90.7033316,91.1303081,87.4630286,91.5984759,98.9652634,98.2555007,101.1309505,89.0609246,93.7336484,91.5190443,94.5956636,88.8989402,104.0351345,102.0460636,93.3554126,99.3042548,86.3755027,91.7463294,101.3313063,84.0297291,82.2080436,84.1547709,79.7001071,95.3334381,93.7041805,93.7947899,89.0643703,89.1579232,89.1568106,84.9078907,101.9243845,93.6404774,93.6443418,84.5992528,90.0,90.2684046,94.9344255,94.6405741,90.1098513,86.9899633,98.8520564,86.5200933,102.8287465,103.2935083,90.0,90.0301071,91.512306,87.8508304,97.7050491,90.0,93.2442145,96.1701722,96.1660164,96.1623459,96.1680293,96.163181,96.1746784,96.1735004,103.3249914,88.6809937,99.7335158,101.3353291,99.8792098,93.9939905,96.5332735,84.7429857,87.6971374,96.2222794,90.5472271,98.6594068,97.6413264,101.7065199,102.4189561,95.1409885,95.9285425,93.6676454,97.6344189,96.4506986,97.5695631,96.5455818,90.0,97.6355619,90.01,90.0,95.5051028,100.4868359,90.0,96.3973114,93.7748864,99.9039014,90.0712677,98.8602199,88.2989686,87.2522094,90.0189841,89.9652453,86.250613,89.200745,93.9040752,96.4139233,97.9433204,89.2590263,89.1474775,89.3191779,93.1283297,92.5025343,98.5165781,92.8787256,96.5784504,97.2370208,88.3487337,99.7930377,94.3804281,95.2877196,94.6142836,96.2825987,89.0929946,101.6972399,85.6301788,101.0650631,102.8088844,99.8877798,104.6606656,102.0495044,102.1709479,104.7327923,103.3963576,100.7570611,103.3977811,100.7584987,100.7577799,103.3970694,104.8016502,104.7989599,102.5850069,102.7701257,103.5032697,102.567152,102.5685671,102.5678596,102.569784,103.7284774,102.5686329,103.7286498,103.7264815,102.5671156,95.7483908,96.09258,96.1147936,83.7847535],\"xbins\":{\"end\":104.5,\"size\":1.0,\"start\":75.5},\"y\":[12.0,6.0,4.0,4.0,4.0,4.0,4.0,8.0,2.0,4.0,6.0,6.0,6.0,4.0,4.0,4.0,4.0,4.0,4.0,4.0,6.0,4.0,4.0,4.0,8.0,8.0,8.0,8.0,8.0,8.0,4.0,4.0,8.0,8.0,8.0,8.0,8.0,8.0,12.0,2.6666666666666665,6.0,6.0,4.0,12.0,12.0,6.0,12.0,8.0,8.0,4.000000000000001,12.0,8.0,8.0,4.000000000000001,12.0,2.666666666666666,1.3333333333333333,4.0,4.0,5.333333333333332,2.6666666666666665,8.0,8.0,4.0,8.0,8.0,4.0,4.0,4.0,4.0,2.0,2.0,2.0,2.0,2.0,2.0,2.0,2.0,2.0,2.0,2.0,2.0,2.0,2.0,2.0,4.0,8.0,8.0,8.0,8.0,4.0,4.0,4.0,8.0,6.0,4.0,12.0,12.0,12.0,4.0,7.9999999999999964,4.0,7.9999999999999964,2.666666666666666,1.3333333333333333,2.666666666666666,2.666666666666666,2.666666666666666,16.0,16.0,8.0,8.0,16.0,8.0,8.0,8.0,8.0,4.0,4.0,8.0,8.0,6.0,6.0,4.0,4.0,32.0,16.0,12.0,8.0,8.0,8.0,8.0,8.0,8.0,4.0,4.0,4.0,4.0,4.0,8.0,4.0,4.0,4.0,12.0,8.0,16.0,16.0,12.0,4.0,4.0,4.0,6.0,6.0,24.0,8.0,8.0,32.0,4.0,12.0,8.0,8.0,4.0,4.0,4.0,4.0,4.0,4.0,4.0,4.0,8.0,8.0,8.0,4.0,4.0,8.0,16.0,16.0,16.0,16.0,4.0,6.0,6.0,16.0,8.0,4.0,16.0,8.0,4.0,4.0,2.666666666666667,4.0,12.0,12.0,8.0,4.0,12.0,8.0,8.0,8.0,8.0,8.0,8.0,16.0,4.0,8.0,16.0,16.0,8.0,8.0,8.0,4.0,4.0,4.0,8.0,8.0,8.0,8.0,8.0,8.0,4.0,4.0,32.0,16.0,16.0,16.0,16.0,16.0,16.0,8.0,8.0,8.0,8.0,6.0,12.0,12.0,2.0,2.0,2.0,2.0,2.0,2.0,8.0,4.0,6.0,12.0,12.0,2.0,2.0,2.0,4.0,4.0,4.0,4.0,4.0,4.0,4.0,8.0,8.0,32.0],\"type\":\"histogram\"},{\"marker\":{\"color\":\"#B61F1C\"},\"mode\":\"lines\",\"showlegend\":false,\"x\":[90,90],\"y\":[0,295],\"type\":\"scatter\"}],                        {\"title\":{\"text\":\"all edges with TM octahedra at both nodes, no ligand multiplicity included, absolute occurrences, approx. AFM\",\"font\":{\"size\":10,\"color\":\"black\"}},\"xaxis\":{\"title\":{\"text\":\"Bond angle (°)\",\"font\":{\"size\":25,\"color\":\"black\"}},\"tickfont\":{\"size\":22,\"color\":\"black\"},\"ticks\":\"outside\",\"tickwidth\":1.2,\"ticklen\":10,\"showgrid\":false,\"showline\":true,\"mirror\":true,\"linewidth\":1.2,\"linecolor\":\"black\"},\"yaxis\":{\"title\":{\"text\":\"Occurrence\",\"font\":{\"size\":25,\"color\":\"black\"}},\"tickfont\":{\"size\":22,\"color\":\"black\"},\"ticks\":\"outside\",\"tickwidth\":1.2,\"ticklen\":10,\"showgrid\":false,\"showline\":true,\"mirror\":true,\"linewidth\":1.2,\"linecolor\":\"black\",\"zeroline\":false,\"zerolinecolor\":\"black\",\"zerolinewidth\":2,\"range\":[0,295]},\"template\":{\"data\":{\"histogram2dcontour\":[{\"type\":\"histogram2dcontour\",\"colorbar\":{\"outlinewidth\":0,\"ticks\":\"\"},\"colorscale\":[[0.0,\"#0d0887\"],[0.1111111111111111,\"#46039f\"],[0.2222222222222222,\"#7201a8\"],[0.3333333333333333,\"#9c179e\"],[0.4444444444444444,\"#bd3786\"],[0.5555555555555556,\"#d8576b\"],[0.6666666666666666,\"#ed7953\"],[0.7777777777777778,\"#fb9f3a\"],[0.8888888888888888,\"#fdca26\"],[1.0,\"#f0f921\"]]}],\"choropleth\":[{\"type\":\"choropleth\",\"colorbar\":{\"outlinewidth\":0,\"ticks\":\"\"}}],\"histogram2d\":[{\"type\":\"histogram2d\",\"colorbar\":{\"outlinewidth\":0,\"ticks\":\"\"},\"colorscale\":[[0.0,\"#0d0887\"],[0.1111111111111111,\"#46039f\"],[0.2222222222222222,\"#7201a8\"],[0.3333333333333333,\"#9c179e\"],[0.4444444444444444,\"#bd3786\"],[0.5555555555555556,\"#d8576b\"],[0.6666666666666666,\"#ed7953\"],[0.7777777777777778,\"#fb9f3a\"],[0.8888888888888888,\"#fdca26\"],[1.0,\"#f0f921\"]]}],\"heatmap\":[{\"type\":\"heatmap\",\"colorbar\":{\"outlinewidth\":0,\"ticks\":\"\"},\"colorscale\":[[0.0,\"#0d0887\"],[0.1111111111111111,\"#46039f\"],[0.2222222222222222,\"#7201a8\"],[0.3333333333333333,\"#9c179e\"],[0.4444444444444444,\"#bd3786\"],[0.5555555555555556,\"#d8576b\"],[0.6666666666666666,\"#ed7953\"],[0.7777777777777778,\"#fb9f3a\"],[0.8888888888888888,\"#fdca26\"],[1.0,\"#f0f921\"]]}],\"heatmapgl\":[{\"type\":\"heatmapgl\",\"colorbar\":{\"outlinewidth\":0,\"ticks\":\"\"},\"colorscale\":[[0.0,\"#0d0887\"],[0.1111111111111111,\"#46039f\"],[0.2222222222222222,\"#7201a8\"],[0.3333333333333333,\"#9c179e\"],[0.4444444444444444,\"#bd3786\"],[0.5555555555555556,\"#d8576b\"],[0.6666666666666666,\"#ed7953\"],[0.7777777777777778,\"#fb9f3a\"],[0.8888888888888888,\"#fdca26\"],[1.0,\"#f0f921\"]]}],\"contourcarpet\":[{\"type\":\"contourcarpet\",\"colorbar\":{\"outlinewidth\":0,\"ticks\":\"\"}}],\"contour\":[{\"type\":\"contour\",\"colorbar\":{\"outlinewidth\":0,\"ticks\":\"\"},\"colorscale\":[[0.0,\"#0d0887\"],[0.1111111111111111,\"#46039f\"],[0.2222222222222222,\"#7201a8\"],[0.3333333333333333,\"#9c179e\"],[0.4444444444444444,\"#bd3786\"],[0.5555555555555556,\"#d8576b\"],[0.6666666666666666,\"#ed7953\"],[0.7777777777777778,\"#fb9f3a\"],[0.8888888888888888,\"#fdca26\"],[1.0,\"#f0f921\"]]}],\"surface\":[{\"type\":\"surface\",\"colorbar\":{\"outlinewidth\":0,\"ticks\":\"\"},\"colorscale\":[[0.0,\"#0d0887\"],[0.1111111111111111,\"#46039f\"],[0.2222222222222222,\"#7201a8\"],[0.3333333333333333,\"#9c179e\"],[0.4444444444444444,\"#bd3786\"],[0.5555555555555556,\"#d8576b\"],[0.6666666666666666,\"#ed7953\"],[0.7777777777777778,\"#fb9f3a\"],[0.8888888888888888,\"#fdca26\"],[1.0,\"#f0f921\"]]}],\"mesh3d\":[{\"type\":\"mesh3d\",\"colorbar\":{\"outlinewidth\":0,\"ticks\":\"\"}}],\"scatter\":[{\"marker\":{\"line\":{\"color\":\"#283442\"}},\"type\":\"scatter\"}],\"parcoords\":[{\"type\":\"parcoords\",\"line\":{\"colorbar\":{\"outlinewidth\":0,\"ticks\":\"\"}}}],\"scatterpolargl\":[{\"type\":\"scatterpolargl\",\"marker\":{\"colorbar\":{\"outlinewidth\":0,\"ticks\":\"\"}}}],\"bar\":[{\"error_x\":{\"color\":\"#f2f5fa\"},\"error_y\":{\"color\":\"#f2f5fa\"},\"marker\":{\"line\":{\"color\":\"rgb(17,17,17)\",\"width\":0.5},\"pattern\":{\"fillmode\":\"overlay\",\"size\":10,\"solidity\":0.2}},\"type\":\"bar\"}],\"scattergeo\":[{\"type\":\"scattergeo\",\"marker\":{\"colorbar\":{\"outlinewidth\":0,\"ticks\":\"\"}}}],\"scatterpolar\":[{\"type\":\"scatterpolar\",\"marker\":{\"colorbar\":{\"outlinewidth\":0,\"ticks\":\"\"}}}],\"histogram\":[{\"marker\":{\"pattern\":{\"fillmode\":\"overlay\",\"size\":10,\"solidity\":0.2}},\"type\":\"histogram\"}],\"scattergl\":[{\"marker\":{\"line\":{\"color\":\"#283442\"}},\"type\":\"scattergl\"}],\"scatter3d\":[{\"type\":\"scatter3d\",\"line\":{\"colorbar\":{\"outlinewidth\":0,\"ticks\":\"\"}},\"marker\":{\"colorbar\":{\"outlinewidth\":0,\"ticks\":\"\"}}}],\"scattermapbox\":[{\"type\":\"scattermapbox\",\"marker\":{\"colorbar\":{\"outlinewidth\":0,\"ticks\":\"\"}}}],\"scatterternary\":[{\"type\":\"scatterternary\",\"marker\":{\"colorbar\":{\"outlinewidth\":0,\"ticks\":\"\"}}}],\"scattercarpet\":[{\"type\":\"scattercarpet\",\"marker\":{\"colorbar\":{\"outlinewidth\":0,\"ticks\":\"\"}}}],\"carpet\":[{\"aaxis\":{\"endlinecolor\":\"#A2B1C6\",\"gridcolor\":\"#506784\",\"linecolor\":\"#506784\",\"minorgridcolor\":\"#506784\",\"startlinecolor\":\"#A2B1C6\"},\"baxis\":{\"endlinecolor\":\"#A2B1C6\",\"gridcolor\":\"#506784\",\"linecolor\":\"#506784\",\"minorgridcolor\":\"#506784\",\"startlinecolor\":\"#A2B1C6\"},\"type\":\"carpet\"}],\"table\":[{\"cells\":{\"fill\":{\"color\":\"#506784\"},\"line\":{\"color\":\"rgb(17,17,17)\"}},\"header\":{\"fill\":{\"color\":\"#2a3f5f\"},\"line\":{\"color\":\"rgb(17,17,17)\"}},\"type\":\"table\"}],\"barpolar\":[{\"marker\":{\"line\":{\"color\":\"rgb(17,17,17)\",\"width\":0.5},\"pattern\":{\"fillmode\":\"overlay\",\"size\":10,\"solidity\":0.2}},\"type\":\"barpolar\"}],\"pie\":[{\"automargin\":true,\"type\":\"pie\"}]},\"layout\":{\"autotypenumbers\":\"strict\",\"colorway\":[\"#636efa\",\"#EF553B\",\"#00cc96\",\"#ab63fa\",\"#FFA15A\",\"#19d3f3\",\"#FF6692\",\"#B6E880\",\"#FF97FF\",\"#FECB52\"],\"font\":{\"color\":\"#f2f5fa\"},\"hovermode\":\"closest\",\"hoverlabel\":{\"align\":\"left\"},\"paper_bgcolor\":\"rgb(17,17,17)\",\"plot_bgcolor\":\"rgb(17,17,17)\",\"polar\":{\"bgcolor\":\"rgb(17,17,17)\",\"angularaxis\":{\"gridcolor\":\"#506784\",\"linecolor\":\"#506784\",\"ticks\":\"\"},\"radialaxis\":{\"gridcolor\":\"#506784\",\"linecolor\":\"#506784\",\"ticks\":\"\"}},\"ternary\":{\"bgcolor\":\"rgb(17,17,17)\",\"aaxis\":{\"gridcolor\":\"#506784\",\"linecolor\":\"#506784\",\"ticks\":\"\"},\"baxis\":{\"gridcolor\":\"#506784\",\"linecolor\":\"#506784\",\"ticks\":\"\"},\"caxis\":{\"gridcolor\":\"#506784\",\"linecolor\":\"#506784\",\"ticks\":\"\"}},\"coloraxis\":{\"colorbar\":{\"outlinewidth\":0,\"ticks\":\"\"}},\"colorscale\":{\"sequential\":[[0.0,\"#0d0887\"],[0.1111111111111111,\"#46039f\"],[0.2222222222222222,\"#7201a8\"],[0.3333333333333333,\"#9c179e\"],[0.4444444444444444,\"#bd3786\"],[0.5555555555555556,\"#d8576b\"],[0.6666666666666666,\"#ed7953\"],[0.7777777777777778,\"#fb9f3a\"],[0.8888888888888888,\"#fdca26\"],[1.0,\"#f0f921\"]],\"sequentialminus\":[[0.0,\"#0d0887\"],[0.1111111111111111,\"#46039f\"],[0.2222222222222222,\"#7201a8\"],[0.3333333333333333,\"#9c179e\"],[0.4444444444444444,\"#bd3786\"],[0.5555555555555556,\"#d8576b\"],[0.6666666666666666,\"#ed7953\"],[0.7777777777777778,\"#fb9f3a\"],[0.8888888888888888,\"#fdca26\"],[1.0,\"#f0f921\"]],\"diverging\":[[0,\"#8e0152\"],[0.1,\"#c51b7d\"],[0.2,\"#de77ae\"],[0.3,\"#f1b6da\"],[0.4,\"#fde0ef\"],[0.5,\"#f7f7f7\"],[0.6,\"#e6f5d0\"],[0.7,\"#b8e186\"],[0.8,\"#7fbc41\"],[0.9,\"#4d9221\"],[1,\"#276419\"]]},\"xaxis\":{\"gridcolor\":\"#283442\",\"linecolor\":\"#506784\",\"ticks\":\"\",\"title\":{\"standoff\":15},\"zerolinecolor\":\"#283442\",\"automargin\":true,\"zerolinewidth\":2},\"yaxis\":{\"gridcolor\":\"#283442\",\"linecolor\":\"#506784\",\"ticks\":\"\",\"title\":{\"standoff\":15},\"zerolinecolor\":\"#283442\",\"automargin\":true,\"zerolinewidth\":2},\"scene\":{\"xaxis\":{\"backgroundcolor\":\"rgb(17,17,17)\",\"gridcolor\":\"#506784\",\"linecolor\":\"#506784\",\"showbackground\":true,\"ticks\":\"\",\"zerolinecolor\":\"#C8D4E3\",\"gridwidth\":2},\"yaxis\":{\"backgroundcolor\":\"rgb(17,17,17)\",\"gridcolor\":\"#506784\",\"linecolor\":\"#506784\",\"showbackground\":true,\"ticks\":\"\",\"zerolinecolor\":\"#C8D4E3\",\"gridwidth\":2},\"zaxis\":{\"backgroundcolor\":\"rgb(17,17,17)\",\"gridcolor\":\"#506784\",\"linecolor\":\"#506784\",\"showbackground\":true,\"ticks\":\"\",\"zerolinecolor\":\"#C8D4E3\",\"gridwidth\":2}},\"shapedefaults\":{\"line\":{\"color\":\"#f2f5fa\"}},\"annotationdefaults\":{\"arrowcolor\":\"#f2f5fa\",\"arrowhead\":0,\"arrowwidth\":1},\"geo\":{\"bgcolor\":\"rgb(17,17,17)\",\"landcolor\":\"rgb(17,17,17)\",\"subunitcolor\":\"#506784\",\"showland\":true,\"showlakes\":true,\"lakecolor\":\"rgb(17,17,17)\"},\"title\":{\"x\":0.05},\"updatemenudefaults\":{\"bgcolor\":\"#506784\",\"borderwidth\":0},\"sliderdefaults\":{\"bgcolor\":\"#C8D4E3\",\"borderwidth\":1,\"bordercolor\":\"rgb(17,17,17)\",\"tickwidth\":0},\"mapbox\":{\"style\":\"dark\"}}},\"font\":{\"family\":\"Arial\"},\"legend\":{\"font\":{\"size\":22,\"color\":\"black\"}},\"plot_bgcolor\":\"rgba(255,255,255,1) \",\"paper_bgcolor\":\"rgba(255,255,255,1) \",\"autosize\":false,\"width\":500,\"height\":500},                        {\"responsive\": true}                    ).then(function(){\n",
       "                            \n",
       "var gd = document.getElementById('2d5a3f49-a863-4bb6-83b7-97d3166f7e97');\n",
       "var x = new MutationObserver(function (mutations, observer) {{\n",
       "        var display = window.getComputedStyle(gd).display;\n",
       "        if (!display || display === 'none') {{\n",
       "            console.log([gd, 'removed!']);\n",
       "            Plotly.purge(gd);\n",
       "            observer.disconnect();\n",
       "        }}\n",
       "}});\n",
       "\n",
       "// Listen for the removal of the full notebook cells\n",
       "var notebookContainer = gd.closest('#notebook-container');\n",
       "if (notebookContainer) {{\n",
       "    x.observe(notebookContainer, {childList: true});\n",
       "}}\n",
       "\n",
       "// Listen for the clearing of the current output cell\n",
       "var outputEl = gd.closest('.output');\n",
       "if (outputEl) {{\n",
       "    x.observe(outputEl, {childList: true});\n",
       "}}\n",
       "\n",
       "                        })                };                });            </script>        </div>"
      ]
     },
     "metadata": {},
     "output_type": "display_data"
    },
    {
     "data": {
      "application/vnd.plotly.v1+json": {
       "data": [
        {
         "autobinx": false,
         "histfunc": "sum",
         "marker": {
          "color": "#025268"
         },
         "showlegend": false,
         "x": [
          94.4839721,
          99.1650781,
          99.1837906,
          94.4550953,
          83.2529606,
          81.8024393,
          96.3165904,
          89.3382765,
          101.5676946,
          101.010375,
          86.7313468,
          92.998788,
          81.8069387,
          85.3781664,
          91.6051401,
          79.3237609,
          88.8709211,
          101.2242395,
          97.2113578,
          103.3703315,
          91.8610977,
          87.0733558,
          89.8317821,
          82.7496218,
          99.1119961,
          99.476733,
          92.9430051,
          101.8816836,
          103.586092,
          89.5930343,
          94.4414935,
          98.4624445,
          84.5860069,
          99.8605352,
          95.6147357,
          92.1962696,
          93.5820218,
          95.7313538,
          96.8458998,
          104.0310047,
          98.3541835,
          98.2359205,
          93.4833518,
          94.6710835,
          90.4836459,
          89.0149687,
          94.8226561,
          90.653455,
          90.2573544,
          99.9115591,
          86.658556,
          103.9252399,
          83.2955809,
          86.1060906,
          84.4763539,
          91.300916,
          100.530478,
          91.3981125,
          83.0080712,
          98.0120686,
          90.736907,
          100.4586415,
          86.497448,
          94.3397474,
          86.6662856,
          88.4879274,
          96.1844428,
          89.3017976,
          98.2260355,
          84.2736493,
          82.1555946,
          97.2262811,
          99.6888642,
          103.0122053,
          93.9556137,
          93.9261254,
          81.3638675,
          90.0717238,
          88.6420342,
          103.9859014,
          97.7560025,
          99.7274468,
          101.7987033,
          103.7394995,
          97.3730968,
          90.3549411,
          97.0630585,
          92.9269659,
          96.8549391,
          93.9812432,
          102.7503963,
          98.4390733,
          100.6525134,
          96.0305094,
          97.2757822,
          98.8506632,
          96.3082419,
          93.2209875,
          96.0963814,
          99.7391659,
          93.3701987,
          100.7093373,
          87.4087805,
          87.4083293,
          87.4093095,
          85.5316153,
          79.1774855,
          93.1045829,
          94.7484102,
          91.4171627,
          90.3403767,
          96.2419053,
          92.9133519,
          90.9207589,
          98.7091607,
          80.2044854,
          84.788283,
          93.7766575,
          93.8488087,
          99.589637,
          92.8308026,
          96.4883547,
          96.4880748,
          90.5377557,
          100.4647796,
          92.5349936,
          88.2682102,
          88.9980614,
          88.2776424,
          95.4749829,
          75.0419326,
          75.0390496,
          75.0430859,
          75.0390494,
          92.1548433,
          92.1546282,
          98.9652634,
          94.0857778,
          98.2555007,
          94.939504,
          102.1265869,
          92.6452264,
          99.8694924,
          95.7717014,
          103.8112308,
          96.8919547,
          93.7336484,
          91.5190443,
          94.8698266,
          92.4533586,
          88.8989402,
          94.5956636,
          87.5784338,
          100.4930001,
          91.5199164,
          92.0543607,
          81.7426459,
          95.1081376,
          93.3554126,
          93.5103604,
          81.4179894,
          91.7463294,
          97.701183,
          94.4822809,
          90.00124,
          95.667232,
          95.3334381,
          91.4157319,
          91.1743356,
          89.1579232,
          89.1568106,
          89.1585263,
          84.9078907,
          93.9227356,
          93.928315,
          84.2791889,
          90.0,
          90.2684046,
          90.2697544,
          94.9344255,
          92.2271324,
          91.4683389,
          93.927662,
          89.3493903,
          92.7854448,
          91.6408703,
          92.1109264,
          86.9899633,
          98.8520564,
          85.3175279,
          94.7142973,
          94.6602894,
          90.0,
          82.2475008,
          84.4293674,
          95.2673176,
          97.7060898,
          97.7037194,
          93.7741757,
          90.0,
          100.103801,
          96.1663592,
          96.1626884,
          96.1683722,
          96.1635236,
          96.1698171,
          96.1671943,
          100.0548383,
          93.9939905,
          101.6956555,
          99.4469313,
          99.1576784,
          97.2244675,
          94.7453198,
          95.9287134,
          95.1410056,
          100.950036,
          91.6920942,
          80.4038444,
          92.3027645,
          100.5191552,
          98.3356378,
          90.1834925,
          90.0,
          96.1992281,
          97.8286066,
          90.0,
          97.6348653,
          90.3549188,
          89.99,
          90.0,
          95.5051028,
          90.0,
          94.8603508,
          93.7748864,
          100.4658863,
          99.9039014,
          92.8003946,
          92.7548686,
          90.6471943,
          88.8531795,
          90.0347547,
          89.9810159,
          78.1081838,
          78.1063548,
          97.9433204,
          89.2590263,
          89.1474775,
          89.3191779,
          99.5837856,
          96.8608809,
          88.3487337,
          94.6923773,
          96.6709005,
          96.2625072,
          94.3804281,
          96.2825987,
          89.2577543,
          101.6972399,
          89.0929946,
          93.5494405,
          78.0354438,
          78.8441539,
          101.6322412,
          104.8963547,
          98.9697232,
          103.1170358,
          78.4064646,
          75.7114453,
          76.1978631,
          79.9292026,
          100.3736038,
          100.948914,
          94.4518564,
          83.7847535
         ],
         "xbins": {
          "end": 104.5,
          "size": 1.0,
          "start": 75.5
         },
         "y": [
          8.0,
          8.0,
          8.0,
          8.0,
          7.9999999999999964,
          7.9999999999999964,
          4.0,
          4.0,
          4.0,
          4.0,
          5.333333333333332,
          5.333333333333332,
          5.333333333333332,
          4.0,
          5.333333333333332,
          5.333333333333332,
          5.333333333333332,
          4.0,
          4.0,
          4.0,
          4.0,
          5.333333333333332,
          5.333333333333332,
          5.333333333333332,
          4.0,
          4.0,
          8.0,
          4.0,
          4.0,
          4.0,
          4.0,
          4.0,
          4.0,
          4.0,
          4.0,
          4.0,
          4.0,
          8.0,
          8.0,
          4.0,
          8.0,
          8.0,
          4.0,
          4.0,
          4.0,
          4.0,
          4.0,
          4.0,
          4.0,
          4.0,
          4.0,
          4.0,
          2.6666666666666665,
          2.6666666666666665,
          2.6666666666666665,
          4.0,
          4.0,
          8.0,
          7.9999999999999964,
          12.0,
          6.0,
          4.0,
          7.9999999999999964,
          24.0,
          4.0,
          12.0,
          12.0,
          12.0,
          12.0,
          2.0,
          7.9999999999999964,
          12.0,
          4.0,
          4.0,
          24.0,
          12.0,
          2.0,
          2.0,
          2.0,
          2.0,
          2.0,
          2.0,
          8.0,
          8.0,
          4.0,
          12.0,
          8.0,
          8.0,
          4.0,
          4.0,
          16.0,
          4.0,
          4.0,
          4.0,
          4.0,
          8.0,
          8.0,
          8.0,
          8.0,
          4.0,
          4.0,
          4.0,
          4.0,
          4.0,
          4.0,
          4.0,
          4.0,
          2.0,
          2.0,
          2.0,
          2.0,
          2.0,
          2.0,
          2.0,
          2.0,
          4.0,
          4.0,
          4.0,
          4.0,
          4.0,
          4.0,
          8.0,
          16.0,
          4.0,
          4.0,
          4.0,
          4.0,
          4.0,
          4.0,
          8.0,
          4.0,
          1.9999999999999998,
          4.0,
          1.9999999999999998,
          8.0,
          4.0,
          8.0,
          16.0,
          8.0,
          16.0,
          8.0,
          8.0,
          8.0,
          8.0,
          8.0,
          4.0,
          4.0,
          4.0,
          4.0,
          4.0,
          8.0,
          8.0,
          8.0,
          8.0,
          6.0,
          6.0,
          4.000000000000001,
          8.0,
          4.0,
          4.0,
          8.0,
          16.0,
          8.0,
          8.0,
          8.0,
          8.0,
          8.0,
          8.0,
          8.0,
          4.0,
          4.0,
          8.0,
          8.0,
          8.0,
          8.0,
          8.0,
          12.0,
          8.0,
          8.0,
          16.0,
          12.0,
          12.0,
          12.0,
          12.0,
          12.0,
          12.0,
          12.0,
          8.0,
          4.0,
          8.0,
          12.0,
          12.0,
          24.0,
          2.6666666666666665,
          5.333333333333332,
          8.0,
          4.0,
          4.0,
          12.0,
          12.0,
          8.0,
          4.0,
          4.0,
          4.0,
          4.0,
          4.0,
          8.0,
          8.0,
          4.0,
          16.0,
          8.0,
          4.0,
          4.0,
          4.0,
          4.0,
          8.0,
          8.0,
          8.0,
          7.9999999999999964,
          8.0,
          8.0,
          8.0,
          24.0,
          24.0,
          4.0,
          8.0,
          2.666666666666667,
          4.0,
          12.0,
          12.0,
          12.0,
          8.0,
          12.0,
          8.0,
          8.0,
          16.0,
          8.0,
          16.0,
          4.0,
          4.0,
          16.0,
          8.0,
          4.0,
          5.333333333333332,
          2.6666666666666665,
          8.0,
          8.0,
          8.0,
          8.0,
          8.0,
          8.0,
          8.0,
          4.0,
          8.0,
          8.0,
          64.0,
          16.0,
          32.0,
          16.0,
          16.0,
          4.0,
          4.0,
          4.0,
          4.0,
          4.0,
          8.0,
          8.0,
          8.0,
          8.0,
          8.0,
          8.0,
          16.0,
          16.0,
          32.0,
          16.0
         ],
         "type": "histogram"
        },
        {
         "marker": {
          "color": "#B61F1C"
         },
         "mode": "lines",
         "showlegend": false,
         "x": [
          90,
          90
         ],
         "y": [
          0,
          295
         ],
         "type": "scatter"
        }
       ],
       "layout": {
        "title": {
         "text": "all edges with TM octahedra at both nodes, no ligand multiplicity included, absolute occurrences, approx. FM",
         "font": {
          "size": 10,
          "color": "black"
         }
        },
        "xaxis": {
         "title": {
          "text": "Bond angle (°)",
          "font": {
           "size": 25,
           "color": "black"
          }
         },
         "tickfont": {
          "size": 22,
          "color": "black"
         },
         "ticks": "outside",
         "tickwidth": 1.2,
         "ticklen": 10,
         "showgrid": false,
         "showline": true,
         "mirror": true,
         "linewidth": 1.2,
         "linecolor": "black"
        },
        "yaxis": {
         "title": {
          "text": "Occurrence",
          "font": {
           "size": 25,
           "color": "black"
          }
         },
         "tickfont": {
          "size": 22,
          "color": "black"
         },
         "ticks": "outside",
         "tickwidth": 1.2,
         "ticklen": 10,
         "showgrid": false,
         "showline": true,
         "mirror": true,
         "linewidth": 1.2,
         "linecolor": "black",
         "zeroline": false,
         "zerolinecolor": "black",
         "zerolinewidth": 2,
         "range": [
          0,
          295
         ]
        },
        "template": {
         "data": {
          "histogram2dcontour": [
           {
            "type": "histogram2dcontour",
            "colorbar": {
             "outlinewidth": 0,
             "ticks": ""
            },
            "colorscale": [
             [
              0.0,
              "#0d0887"
             ],
             [
              0.1111111111111111,
              "#46039f"
             ],
             [
              0.2222222222222222,
              "#7201a8"
             ],
             [
              0.3333333333333333,
              "#9c179e"
             ],
             [
              0.4444444444444444,
              "#bd3786"
             ],
             [
              0.5555555555555556,
              "#d8576b"
             ],
             [
              0.6666666666666666,
              "#ed7953"
             ],
             [
              0.7777777777777778,
              "#fb9f3a"
             ],
             [
              0.8888888888888888,
              "#fdca26"
             ],
             [
              1.0,
              "#f0f921"
             ]
            ]
           }
          ],
          "choropleth": [
           {
            "type": "choropleth",
            "colorbar": {
             "outlinewidth": 0,
             "ticks": ""
            }
           }
          ],
          "histogram2d": [
           {
            "type": "histogram2d",
            "colorbar": {
             "outlinewidth": 0,
             "ticks": ""
            },
            "colorscale": [
             [
              0.0,
              "#0d0887"
             ],
             [
              0.1111111111111111,
              "#46039f"
             ],
             [
              0.2222222222222222,
              "#7201a8"
             ],
             [
              0.3333333333333333,
              "#9c179e"
             ],
             [
              0.4444444444444444,
              "#bd3786"
             ],
             [
              0.5555555555555556,
              "#d8576b"
             ],
             [
              0.6666666666666666,
              "#ed7953"
             ],
             [
              0.7777777777777778,
              "#fb9f3a"
             ],
             [
              0.8888888888888888,
              "#fdca26"
             ],
             [
              1.0,
              "#f0f921"
             ]
            ]
           }
          ],
          "heatmap": [
           {
            "type": "heatmap",
            "colorbar": {
             "outlinewidth": 0,
             "ticks": ""
            },
            "colorscale": [
             [
              0.0,
              "#0d0887"
             ],
             [
              0.1111111111111111,
              "#46039f"
             ],
             [
              0.2222222222222222,
              "#7201a8"
             ],
             [
              0.3333333333333333,
              "#9c179e"
             ],
             [
              0.4444444444444444,
              "#bd3786"
             ],
             [
              0.5555555555555556,
              "#d8576b"
             ],
             [
              0.6666666666666666,
              "#ed7953"
             ],
             [
              0.7777777777777778,
              "#fb9f3a"
             ],
             [
              0.8888888888888888,
              "#fdca26"
             ],
             [
              1.0,
              "#f0f921"
             ]
            ]
           }
          ],
          "heatmapgl": [
           {
            "type": "heatmapgl",
            "colorbar": {
             "outlinewidth": 0,
             "ticks": ""
            },
            "colorscale": [
             [
              0.0,
              "#0d0887"
             ],
             [
              0.1111111111111111,
              "#46039f"
             ],
             [
              0.2222222222222222,
              "#7201a8"
             ],
             [
              0.3333333333333333,
              "#9c179e"
             ],
             [
              0.4444444444444444,
              "#bd3786"
             ],
             [
              0.5555555555555556,
              "#d8576b"
             ],
             [
              0.6666666666666666,
              "#ed7953"
             ],
             [
              0.7777777777777778,
              "#fb9f3a"
             ],
             [
              0.8888888888888888,
              "#fdca26"
             ],
             [
              1.0,
              "#f0f921"
             ]
            ]
           }
          ],
          "contourcarpet": [
           {
            "type": "contourcarpet",
            "colorbar": {
             "outlinewidth": 0,
             "ticks": ""
            }
           }
          ],
          "contour": [
           {
            "type": "contour",
            "colorbar": {
             "outlinewidth": 0,
             "ticks": ""
            },
            "colorscale": [
             [
              0.0,
              "#0d0887"
             ],
             [
              0.1111111111111111,
              "#46039f"
             ],
             [
              0.2222222222222222,
              "#7201a8"
             ],
             [
              0.3333333333333333,
              "#9c179e"
             ],
             [
              0.4444444444444444,
              "#bd3786"
             ],
             [
              0.5555555555555556,
              "#d8576b"
             ],
             [
              0.6666666666666666,
              "#ed7953"
             ],
             [
              0.7777777777777778,
              "#fb9f3a"
             ],
             [
              0.8888888888888888,
              "#fdca26"
             ],
             [
              1.0,
              "#f0f921"
             ]
            ]
           }
          ],
          "surface": [
           {
            "type": "surface",
            "colorbar": {
             "outlinewidth": 0,
             "ticks": ""
            },
            "colorscale": [
             [
              0.0,
              "#0d0887"
             ],
             [
              0.1111111111111111,
              "#46039f"
             ],
             [
              0.2222222222222222,
              "#7201a8"
             ],
             [
              0.3333333333333333,
              "#9c179e"
             ],
             [
              0.4444444444444444,
              "#bd3786"
             ],
             [
              0.5555555555555556,
              "#d8576b"
             ],
             [
              0.6666666666666666,
              "#ed7953"
             ],
             [
              0.7777777777777778,
              "#fb9f3a"
             ],
             [
              0.8888888888888888,
              "#fdca26"
             ],
             [
              1.0,
              "#f0f921"
             ]
            ]
           }
          ],
          "mesh3d": [
           {
            "type": "mesh3d",
            "colorbar": {
             "outlinewidth": 0,
             "ticks": ""
            }
           }
          ],
          "scatter": [
           {
            "marker": {
             "line": {
              "color": "#283442"
             }
            },
            "type": "scatter"
           }
          ],
          "parcoords": [
           {
            "type": "parcoords",
            "line": {
             "colorbar": {
              "outlinewidth": 0,
              "ticks": ""
             }
            }
           }
          ],
          "scatterpolargl": [
           {
            "type": "scatterpolargl",
            "marker": {
             "colorbar": {
              "outlinewidth": 0,
              "ticks": ""
             }
            }
           }
          ],
          "bar": [
           {
            "error_x": {
             "color": "#f2f5fa"
            },
            "error_y": {
             "color": "#f2f5fa"
            },
            "marker": {
             "line": {
              "color": "rgb(17,17,17)",
              "width": 0.5
             },
             "pattern": {
              "fillmode": "overlay",
              "size": 10,
              "solidity": 0.2
             }
            },
            "type": "bar"
           }
          ],
          "scattergeo": [
           {
            "type": "scattergeo",
            "marker": {
             "colorbar": {
              "outlinewidth": 0,
              "ticks": ""
             }
            }
           }
          ],
          "scatterpolar": [
           {
            "type": "scatterpolar",
            "marker": {
             "colorbar": {
              "outlinewidth": 0,
              "ticks": ""
             }
            }
           }
          ],
          "histogram": [
           {
            "marker": {
             "pattern": {
              "fillmode": "overlay",
              "size": 10,
              "solidity": 0.2
             }
            },
            "type": "histogram"
           }
          ],
          "scattergl": [
           {
            "marker": {
             "line": {
              "color": "#283442"
             }
            },
            "type": "scattergl"
           }
          ],
          "scatter3d": [
           {
            "type": "scatter3d",
            "line": {
             "colorbar": {
              "outlinewidth": 0,
              "ticks": ""
             }
            },
            "marker": {
             "colorbar": {
              "outlinewidth": 0,
              "ticks": ""
             }
            }
           }
          ],
          "scattermapbox": [
           {
            "type": "scattermapbox",
            "marker": {
             "colorbar": {
              "outlinewidth": 0,
              "ticks": ""
             }
            }
           }
          ],
          "scatterternary": [
           {
            "type": "scatterternary",
            "marker": {
             "colorbar": {
              "outlinewidth": 0,
              "ticks": ""
             }
            }
           }
          ],
          "scattercarpet": [
           {
            "type": "scattercarpet",
            "marker": {
             "colorbar": {
              "outlinewidth": 0,
              "ticks": ""
             }
            }
           }
          ],
          "carpet": [
           {
            "aaxis": {
             "endlinecolor": "#A2B1C6",
             "gridcolor": "#506784",
             "linecolor": "#506784",
             "minorgridcolor": "#506784",
             "startlinecolor": "#A2B1C6"
            },
            "baxis": {
             "endlinecolor": "#A2B1C6",
             "gridcolor": "#506784",
             "linecolor": "#506784",
             "minorgridcolor": "#506784",
             "startlinecolor": "#A2B1C6"
            },
            "type": "carpet"
           }
          ],
          "table": [
           {
            "cells": {
             "fill": {
              "color": "#506784"
             },
             "line": {
              "color": "rgb(17,17,17)"
             }
            },
            "header": {
             "fill": {
              "color": "#2a3f5f"
             },
             "line": {
              "color": "rgb(17,17,17)"
             }
            },
            "type": "table"
           }
          ],
          "barpolar": [
           {
            "marker": {
             "line": {
              "color": "rgb(17,17,17)",
              "width": 0.5
             },
             "pattern": {
              "fillmode": "overlay",
              "size": 10,
              "solidity": 0.2
             }
            },
            "type": "barpolar"
           }
          ],
          "pie": [
           {
            "automargin": true,
            "type": "pie"
           }
          ]
         },
         "layout": {
          "autotypenumbers": "strict",
          "colorway": [
           "#636efa",
           "#EF553B",
           "#00cc96",
           "#ab63fa",
           "#FFA15A",
           "#19d3f3",
           "#FF6692",
           "#B6E880",
           "#FF97FF",
           "#FECB52"
          ],
          "font": {
           "color": "#f2f5fa"
          },
          "hovermode": "closest",
          "hoverlabel": {
           "align": "left"
          },
          "paper_bgcolor": "rgb(17,17,17)",
          "plot_bgcolor": "rgb(17,17,17)",
          "polar": {
           "bgcolor": "rgb(17,17,17)",
           "angularaxis": {
            "gridcolor": "#506784",
            "linecolor": "#506784",
            "ticks": ""
           },
           "radialaxis": {
            "gridcolor": "#506784",
            "linecolor": "#506784",
            "ticks": ""
           }
          },
          "ternary": {
           "bgcolor": "rgb(17,17,17)",
           "aaxis": {
            "gridcolor": "#506784",
            "linecolor": "#506784",
            "ticks": ""
           },
           "baxis": {
            "gridcolor": "#506784",
            "linecolor": "#506784",
            "ticks": ""
           },
           "caxis": {
            "gridcolor": "#506784",
            "linecolor": "#506784",
            "ticks": ""
           }
          },
          "coloraxis": {
           "colorbar": {
            "outlinewidth": 0,
            "ticks": ""
           }
          },
          "colorscale": {
           "sequential": [
            [
             0.0,
             "#0d0887"
            ],
            [
             0.1111111111111111,
             "#46039f"
            ],
            [
             0.2222222222222222,
             "#7201a8"
            ],
            [
             0.3333333333333333,
             "#9c179e"
            ],
            [
             0.4444444444444444,
             "#bd3786"
            ],
            [
             0.5555555555555556,
             "#d8576b"
            ],
            [
             0.6666666666666666,
             "#ed7953"
            ],
            [
             0.7777777777777778,
             "#fb9f3a"
            ],
            [
             0.8888888888888888,
             "#fdca26"
            ],
            [
             1.0,
             "#f0f921"
            ]
           ],
           "sequentialminus": [
            [
             0.0,
             "#0d0887"
            ],
            [
             0.1111111111111111,
             "#46039f"
            ],
            [
             0.2222222222222222,
             "#7201a8"
            ],
            [
             0.3333333333333333,
             "#9c179e"
            ],
            [
             0.4444444444444444,
             "#bd3786"
            ],
            [
             0.5555555555555556,
             "#d8576b"
            ],
            [
             0.6666666666666666,
             "#ed7953"
            ],
            [
             0.7777777777777778,
             "#fb9f3a"
            ],
            [
             0.8888888888888888,
             "#fdca26"
            ],
            [
             1.0,
             "#f0f921"
            ]
           ],
           "diverging": [
            [
             0,
             "#8e0152"
            ],
            [
             0.1,
             "#c51b7d"
            ],
            [
             0.2,
             "#de77ae"
            ],
            [
             0.3,
             "#f1b6da"
            ],
            [
             0.4,
             "#fde0ef"
            ],
            [
             0.5,
             "#f7f7f7"
            ],
            [
             0.6,
             "#e6f5d0"
            ],
            [
             0.7,
             "#b8e186"
            ],
            [
             0.8,
             "#7fbc41"
            ],
            [
             0.9,
             "#4d9221"
            ],
            [
             1,
             "#276419"
            ]
           ]
          },
          "xaxis": {
           "gridcolor": "#283442",
           "linecolor": "#506784",
           "ticks": "",
           "title": {
            "standoff": 15
           },
           "zerolinecolor": "#283442",
           "automargin": true,
           "zerolinewidth": 2
          },
          "yaxis": {
           "gridcolor": "#283442",
           "linecolor": "#506784",
           "ticks": "",
           "title": {
            "standoff": 15
           },
           "zerolinecolor": "#283442",
           "automargin": true,
           "zerolinewidth": 2
          },
          "scene": {
           "xaxis": {
            "backgroundcolor": "rgb(17,17,17)",
            "gridcolor": "#506784",
            "linecolor": "#506784",
            "showbackground": true,
            "ticks": "",
            "zerolinecolor": "#C8D4E3",
            "gridwidth": 2
           },
           "yaxis": {
            "backgroundcolor": "rgb(17,17,17)",
            "gridcolor": "#506784",
            "linecolor": "#506784",
            "showbackground": true,
            "ticks": "",
            "zerolinecolor": "#C8D4E3",
            "gridwidth": 2
           },
           "zaxis": {
            "backgroundcolor": "rgb(17,17,17)",
            "gridcolor": "#506784",
            "linecolor": "#506784",
            "showbackground": true,
            "ticks": "",
            "zerolinecolor": "#C8D4E3",
            "gridwidth": 2
           }
          },
          "shapedefaults": {
           "line": {
            "color": "#f2f5fa"
           }
          },
          "annotationdefaults": {
           "arrowcolor": "#f2f5fa",
           "arrowhead": 0,
           "arrowwidth": 1
          },
          "geo": {
           "bgcolor": "rgb(17,17,17)",
           "landcolor": "rgb(17,17,17)",
           "subunitcolor": "#506784",
           "showland": true,
           "showlakes": true,
           "lakecolor": "rgb(17,17,17)"
          },
          "title": {
           "x": 0.05
          },
          "updatemenudefaults": {
           "bgcolor": "#506784",
           "borderwidth": 0
          },
          "sliderdefaults": {
           "bgcolor": "#C8D4E3",
           "borderwidth": 1,
           "bordercolor": "rgb(17,17,17)",
           "tickwidth": 0
          },
          "mapbox": {
           "style": "dark"
          }
         }
        },
        "font": {
         "family": "Arial"
        },
        "legend": {
         "font": {
          "size": 22,
          "color": "black"
         }
        },
        "plot_bgcolor": "rgba(255,255,255,1) ",
        "paper_bgcolor": "rgba(255,255,255,1) ",
        "autosize": false,
        "width": 500,
        "height": 500
       },
       "config": {
        "plotlyServerURL": "https://plot.ly"
       }
      },
      "text/html": [
       "<div>                            <div id=\"bef13ec2-9cce-42c9-90c6-e601c346663d\" class=\"plotly-graph-div\" style=\"height:500px; width:500px;\"></div>            <script type=\"text/javascript\">                require([\"plotly\"], function(Plotly) {                    window.PLOTLYENV=window.PLOTLYENV || {};                                    if (document.getElementById(\"bef13ec2-9cce-42c9-90c6-e601c346663d\")) {                    Plotly.newPlot(                        \"bef13ec2-9cce-42c9-90c6-e601c346663d\",                        [{\"autobinx\":false,\"histfunc\":\"sum\",\"marker\":{\"color\":\"#025268\"},\"showlegend\":false,\"x\":[94.4839721,99.1650781,99.1837906,94.4550953,83.2529606,81.8024393,96.3165904,89.3382765,101.5676946,101.010375,86.7313468,92.998788,81.8069387,85.3781664,91.6051401,79.3237609,88.8709211,101.2242395,97.2113578,103.3703315,91.8610977,87.0733558,89.8317821,82.7496218,99.1119961,99.476733,92.9430051,101.8816836,103.586092,89.5930343,94.4414935,98.4624445,84.5860069,99.8605352,95.6147357,92.1962696,93.5820218,95.7313538,96.8458998,104.0310047,98.3541835,98.2359205,93.4833518,94.6710835,90.4836459,89.0149687,94.8226561,90.653455,90.2573544,99.9115591,86.658556,103.9252399,83.2955809,86.1060906,84.4763539,91.300916,100.530478,91.3981125,83.0080712,98.0120686,90.736907,100.4586415,86.497448,94.3397474,86.6662856,88.4879274,96.1844428,89.3017976,98.2260355,84.2736493,82.1555946,97.2262811,99.6888642,103.0122053,93.9556137,93.9261254,81.3638675,90.0717238,88.6420342,103.9859014,97.7560025,99.7274468,101.7987033,103.7394995,97.3730968,90.3549411,97.0630585,92.9269659,96.8549391,93.9812432,102.7503963,98.4390733,100.6525134,96.0305094,97.2757822,98.8506632,96.3082419,93.2209875,96.0963814,99.7391659,93.3701987,100.7093373,87.4087805,87.4083293,87.4093095,85.5316153,79.1774855,93.1045829,94.7484102,91.4171627,90.3403767,96.2419053,92.9133519,90.9207589,98.7091607,80.2044854,84.788283,93.7766575,93.8488087,99.589637,92.8308026,96.4883547,96.4880748,90.5377557,100.4647796,92.5349936,88.2682102,88.9980614,88.2776424,95.4749829,75.0419326,75.0390496,75.0430859,75.0390494,92.1548433,92.1546282,98.9652634,94.0857778,98.2555007,94.939504,102.1265869,92.6452264,99.8694924,95.7717014,103.8112308,96.8919547,93.7336484,91.5190443,94.8698266,92.4533586,88.8989402,94.5956636,87.5784338,100.4930001,91.5199164,92.0543607,81.7426459,95.1081376,93.3554126,93.5103604,81.4179894,91.7463294,97.701183,94.4822809,90.00124,95.667232,95.3334381,91.4157319,91.1743356,89.1579232,89.1568106,89.1585263,84.9078907,93.9227356,93.928315,84.2791889,90.0,90.2684046,90.2697544,94.9344255,92.2271324,91.4683389,93.927662,89.3493903,92.7854448,91.6408703,92.1109264,86.9899633,98.8520564,85.3175279,94.7142973,94.6602894,90.0,82.2475008,84.4293674,95.2673176,97.7060898,97.7037194,93.7741757,90.0,100.103801,96.1663592,96.1626884,96.1683722,96.1635236,96.1698171,96.1671943,100.0548383,93.9939905,101.6956555,99.4469313,99.1576784,97.2244675,94.7453198,95.9287134,95.1410056,100.950036,91.6920942,80.4038444,92.3027645,100.5191552,98.3356378,90.1834925,90.0,96.1992281,97.8286066,90.0,97.6348653,90.3549188,89.99,90.0,95.5051028,90.0,94.8603508,93.7748864,100.4658863,99.9039014,92.8003946,92.7548686,90.6471943,88.8531795,90.0347547,89.9810159,78.1081838,78.1063548,97.9433204,89.2590263,89.1474775,89.3191779,99.5837856,96.8608809,88.3487337,94.6923773,96.6709005,96.2625072,94.3804281,96.2825987,89.2577543,101.6972399,89.0929946,93.5494405,78.0354438,78.8441539,101.6322412,104.8963547,98.9697232,103.1170358,78.4064646,75.7114453,76.1978631,79.9292026,100.3736038,100.948914,94.4518564,83.7847535],\"xbins\":{\"end\":104.5,\"size\":1.0,\"start\":75.5},\"y\":[8.0,8.0,8.0,8.0,7.9999999999999964,7.9999999999999964,4.0,4.0,4.0,4.0,5.333333333333332,5.333333333333332,5.333333333333332,4.0,5.333333333333332,5.333333333333332,5.333333333333332,4.0,4.0,4.0,4.0,5.333333333333332,5.333333333333332,5.333333333333332,4.0,4.0,8.0,4.0,4.0,4.0,4.0,4.0,4.0,4.0,4.0,4.0,4.0,8.0,8.0,4.0,8.0,8.0,4.0,4.0,4.0,4.0,4.0,4.0,4.0,4.0,4.0,4.0,2.6666666666666665,2.6666666666666665,2.6666666666666665,4.0,4.0,8.0,7.9999999999999964,12.0,6.0,4.0,7.9999999999999964,24.0,4.0,12.0,12.0,12.0,12.0,2.0,7.9999999999999964,12.0,4.0,4.0,24.0,12.0,2.0,2.0,2.0,2.0,2.0,2.0,8.0,8.0,4.0,12.0,8.0,8.0,4.0,4.0,16.0,4.0,4.0,4.0,4.0,8.0,8.0,8.0,8.0,4.0,4.0,4.0,4.0,4.0,4.0,4.0,4.0,2.0,2.0,2.0,2.0,2.0,2.0,2.0,2.0,4.0,4.0,4.0,4.0,4.0,4.0,8.0,16.0,4.0,4.0,4.0,4.0,4.0,4.0,8.0,4.0,1.9999999999999998,4.0,1.9999999999999998,8.0,4.0,8.0,16.0,8.0,16.0,8.0,8.0,8.0,8.0,8.0,4.0,4.0,4.0,4.0,4.0,8.0,8.0,8.0,8.0,6.0,6.0,4.000000000000001,8.0,4.0,4.0,8.0,16.0,8.0,8.0,8.0,8.0,8.0,8.0,8.0,4.0,4.0,8.0,8.0,8.0,8.0,8.0,12.0,8.0,8.0,16.0,12.0,12.0,12.0,12.0,12.0,12.0,12.0,8.0,4.0,8.0,12.0,12.0,24.0,2.6666666666666665,5.333333333333332,8.0,4.0,4.0,12.0,12.0,8.0,4.0,4.0,4.0,4.0,4.0,8.0,8.0,4.0,16.0,8.0,4.0,4.0,4.0,4.0,8.0,8.0,8.0,7.9999999999999964,8.0,8.0,8.0,24.0,24.0,4.0,8.0,2.666666666666667,4.0,12.0,12.0,12.0,8.0,12.0,8.0,8.0,16.0,8.0,16.0,4.0,4.0,16.0,8.0,4.0,5.333333333333332,2.6666666666666665,8.0,8.0,8.0,8.0,8.0,8.0,8.0,4.0,8.0,8.0,64.0,16.0,32.0,16.0,16.0,4.0,4.0,4.0,4.0,4.0,8.0,8.0,8.0,8.0,8.0,8.0,16.0,16.0,32.0,16.0],\"type\":\"histogram\"},{\"marker\":{\"color\":\"#B61F1C\"},\"mode\":\"lines\",\"showlegend\":false,\"x\":[90,90],\"y\":[0,295],\"type\":\"scatter\"}],                        {\"title\":{\"text\":\"all edges with TM octahedra at both nodes, no ligand multiplicity included, absolute occurrences, approx. FM\",\"font\":{\"size\":10,\"color\":\"black\"}},\"xaxis\":{\"title\":{\"text\":\"Bond angle (°)\",\"font\":{\"size\":25,\"color\":\"black\"}},\"tickfont\":{\"size\":22,\"color\":\"black\"},\"ticks\":\"outside\",\"tickwidth\":1.2,\"ticklen\":10,\"showgrid\":false,\"showline\":true,\"mirror\":true,\"linewidth\":1.2,\"linecolor\":\"black\"},\"yaxis\":{\"title\":{\"text\":\"Occurrence\",\"font\":{\"size\":25,\"color\":\"black\"}},\"tickfont\":{\"size\":22,\"color\":\"black\"},\"ticks\":\"outside\",\"tickwidth\":1.2,\"ticklen\":10,\"showgrid\":false,\"showline\":true,\"mirror\":true,\"linewidth\":1.2,\"linecolor\":\"black\",\"zeroline\":false,\"zerolinecolor\":\"black\",\"zerolinewidth\":2,\"range\":[0,295]},\"template\":{\"data\":{\"histogram2dcontour\":[{\"type\":\"histogram2dcontour\",\"colorbar\":{\"outlinewidth\":0,\"ticks\":\"\"},\"colorscale\":[[0.0,\"#0d0887\"],[0.1111111111111111,\"#46039f\"],[0.2222222222222222,\"#7201a8\"],[0.3333333333333333,\"#9c179e\"],[0.4444444444444444,\"#bd3786\"],[0.5555555555555556,\"#d8576b\"],[0.6666666666666666,\"#ed7953\"],[0.7777777777777778,\"#fb9f3a\"],[0.8888888888888888,\"#fdca26\"],[1.0,\"#f0f921\"]]}],\"choropleth\":[{\"type\":\"choropleth\",\"colorbar\":{\"outlinewidth\":0,\"ticks\":\"\"}}],\"histogram2d\":[{\"type\":\"histogram2d\",\"colorbar\":{\"outlinewidth\":0,\"ticks\":\"\"},\"colorscale\":[[0.0,\"#0d0887\"],[0.1111111111111111,\"#46039f\"],[0.2222222222222222,\"#7201a8\"],[0.3333333333333333,\"#9c179e\"],[0.4444444444444444,\"#bd3786\"],[0.5555555555555556,\"#d8576b\"],[0.6666666666666666,\"#ed7953\"],[0.7777777777777778,\"#fb9f3a\"],[0.8888888888888888,\"#fdca26\"],[1.0,\"#f0f921\"]]}],\"heatmap\":[{\"type\":\"heatmap\",\"colorbar\":{\"outlinewidth\":0,\"ticks\":\"\"},\"colorscale\":[[0.0,\"#0d0887\"],[0.1111111111111111,\"#46039f\"],[0.2222222222222222,\"#7201a8\"],[0.3333333333333333,\"#9c179e\"],[0.4444444444444444,\"#bd3786\"],[0.5555555555555556,\"#d8576b\"],[0.6666666666666666,\"#ed7953\"],[0.7777777777777778,\"#fb9f3a\"],[0.8888888888888888,\"#fdca26\"],[1.0,\"#f0f921\"]]}],\"heatmapgl\":[{\"type\":\"heatmapgl\",\"colorbar\":{\"outlinewidth\":0,\"ticks\":\"\"},\"colorscale\":[[0.0,\"#0d0887\"],[0.1111111111111111,\"#46039f\"],[0.2222222222222222,\"#7201a8\"],[0.3333333333333333,\"#9c179e\"],[0.4444444444444444,\"#bd3786\"],[0.5555555555555556,\"#d8576b\"],[0.6666666666666666,\"#ed7953\"],[0.7777777777777778,\"#fb9f3a\"],[0.8888888888888888,\"#fdca26\"],[1.0,\"#f0f921\"]]}],\"contourcarpet\":[{\"type\":\"contourcarpet\",\"colorbar\":{\"outlinewidth\":0,\"ticks\":\"\"}}],\"contour\":[{\"type\":\"contour\",\"colorbar\":{\"outlinewidth\":0,\"ticks\":\"\"},\"colorscale\":[[0.0,\"#0d0887\"],[0.1111111111111111,\"#46039f\"],[0.2222222222222222,\"#7201a8\"],[0.3333333333333333,\"#9c179e\"],[0.4444444444444444,\"#bd3786\"],[0.5555555555555556,\"#d8576b\"],[0.6666666666666666,\"#ed7953\"],[0.7777777777777778,\"#fb9f3a\"],[0.8888888888888888,\"#fdca26\"],[1.0,\"#f0f921\"]]}],\"surface\":[{\"type\":\"surface\",\"colorbar\":{\"outlinewidth\":0,\"ticks\":\"\"},\"colorscale\":[[0.0,\"#0d0887\"],[0.1111111111111111,\"#46039f\"],[0.2222222222222222,\"#7201a8\"],[0.3333333333333333,\"#9c179e\"],[0.4444444444444444,\"#bd3786\"],[0.5555555555555556,\"#d8576b\"],[0.6666666666666666,\"#ed7953\"],[0.7777777777777778,\"#fb9f3a\"],[0.8888888888888888,\"#fdca26\"],[1.0,\"#f0f921\"]]}],\"mesh3d\":[{\"type\":\"mesh3d\",\"colorbar\":{\"outlinewidth\":0,\"ticks\":\"\"}}],\"scatter\":[{\"marker\":{\"line\":{\"color\":\"#283442\"}},\"type\":\"scatter\"}],\"parcoords\":[{\"type\":\"parcoords\",\"line\":{\"colorbar\":{\"outlinewidth\":0,\"ticks\":\"\"}}}],\"scatterpolargl\":[{\"type\":\"scatterpolargl\",\"marker\":{\"colorbar\":{\"outlinewidth\":0,\"ticks\":\"\"}}}],\"bar\":[{\"error_x\":{\"color\":\"#f2f5fa\"},\"error_y\":{\"color\":\"#f2f5fa\"},\"marker\":{\"line\":{\"color\":\"rgb(17,17,17)\",\"width\":0.5},\"pattern\":{\"fillmode\":\"overlay\",\"size\":10,\"solidity\":0.2}},\"type\":\"bar\"}],\"scattergeo\":[{\"type\":\"scattergeo\",\"marker\":{\"colorbar\":{\"outlinewidth\":0,\"ticks\":\"\"}}}],\"scatterpolar\":[{\"type\":\"scatterpolar\",\"marker\":{\"colorbar\":{\"outlinewidth\":0,\"ticks\":\"\"}}}],\"histogram\":[{\"marker\":{\"pattern\":{\"fillmode\":\"overlay\",\"size\":10,\"solidity\":0.2}},\"type\":\"histogram\"}],\"scattergl\":[{\"marker\":{\"line\":{\"color\":\"#283442\"}},\"type\":\"scattergl\"}],\"scatter3d\":[{\"type\":\"scatter3d\",\"line\":{\"colorbar\":{\"outlinewidth\":0,\"ticks\":\"\"}},\"marker\":{\"colorbar\":{\"outlinewidth\":0,\"ticks\":\"\"}}}],\"scattermapbox\":[{\"type\":\"scattermapbox\",\"marker\":{\"colorbar\":{\"outlinewidth\":0,\"ticks\":\"\"}}}],\"scatterternary\":[{\"type\":\"scatterternary\",\"marker\":{\"colorbar\":{\"outlinewidth\":0,\"ticks\":\"\"}}}],\"scattercarpet\":[{\"type\":\"scattercarpet\",\"marker\":{\"colorbar\":{\"outlinewidth\":0,\"ticks\":\"\"}}}],\"carpet\":[{\"aaxis\":{\"endlinecolor\":\"#A2B1C6\",\"gridcolor\":\"#506784\",\"linecolor\":\"#506784\",\"minorgridcolor\":\"#506784\",\"startlinecolor\":\"#A2B1C6\"},\"baxis\":{\"endlinecolor\":\"#A2B1C6\",\"gridcolor\":\"#506784\",\"linecolor\":\"#506784\",\"minorgridcolor\":\"#506784\",\"startlinecolor\":\"#A2B1C6\"},\"type\":\"carpet\"}],\"table\":[{\"cells\":{\"fill\":{\"color\":\"#506784\"},\"line\":{\"color\":\"rgb(17,17,17)\"}},\"header\":{\"fill\":{\"color\":\"#2a3f5f\"},\"line\":{\"color\":\"rgb(17,17,17)\"}},\"type\":\"table\"}],\"barpolar\":[{\"marker\":{\"line\":{\"color\":\"rgb(17,17,17)\",\"width\":0.5},\"pattern\":{\"fillmode\":\"overlay\",\"size\":10,\"solidity\":0.2}},\"type\":\"barpolar\"}],\"pie\":[{\"automargin\":true,\"type\":\"pie\"}]},\"layout\":{\"autotypenumbers\":\"strict\",\"colorway\":[\"#636efa\",\"#EF553B\",\"#00cc96\",\"#ab63fa\",\"#FFA15A\",\"#19d3f3\",\"#FF6692\",\"#B6E880\",\"#FF97FF\",\"#FECB52\"],\"font\":{\"color\":\"#f2f5fa\"},\"hovermode\":\"closest\",\"hoverlabel\":{\"align\":\"left\"},\"paper_bgcolor\":\"rgb(17,17,17)\",\"plot_bgcolor\":\"rgb(17,17,17)\",\"polar\":{\"bgcolor\":\"rgb(17,17,17)\",\"angularaxis\":{\"gridcolor\":\"#506784\",\"linecolor\":\"#506784\",\"ticks\":\"\"},\"radialaxis\":{\"gridcolor\":\"#506784\",\"linecolor\":\"#506784\",\"ticks\":\"\"}},\"ternary\":{\"bgcolor\":\"rgb(17,17,17)\",\"aaxis\":{\"gridcolor\":\"#506784\",\"linecolor\":\"#506784\",\"ticks\":\"\"},\"baxis\":{\"gridcolor\":\"#506784\",\"linecolor\":\"#506784\",\"ticks\":\"\"},\"caxis\":{\"gridcolor\":\"#506784\",\"linecolor\":\"#506784\",\"ticks\":\"\"}},\"coloraxis\":{\"colorbar\":{\"outlinewidth\":0,\"ticks\":\"\"}},\"colorscale\":{\"sequential\":[[0.0,\"#0d0887\"],[0.1111111111111111,\"#46039f\"],[0.2222222222222222,\"#7201a8\"],[0.3333333333333333,\"#9c179e\"],[0.4444444444444444,\"#bd3786\"],[0.5555555555555556,\"#d8576b\"],[0.6666666666666666,\"#ed7953\"],[0.7777777777777778,\"#fb9f3a\"],[0.8888888888888888,\"#fdca26\"],[1.0,\"#f0f921\"]],\"sequentialminus\":[[0.0,\"#0d0887\"],[0.1111111111111111,\"#46039f\"],[0.2222222222222222,\"#7201a8\"],[0.3333333333333333,\"#9c179e\"],[0.4444444444444444,\"#bd3786\"],[0.5555555555555556,\"#d8576b\"],[0.6666666666666666,\"#ed7953\"],[0.7777777777777778,\"#fb9f3a\"],[0.8888888888888888,\"#fdca26\"],[1.0,\"#f0f921\"]],\"diverging\":[[0,\"#8e0152\"],[0.1,\"#c51b7d\"],[0.2,\"#de77ae\"],[0.3,\"#f1b6da\"],[0.4,\"#fde0ef\"],[0.5,\"#f7f7f7\"],[0.6,\"#e6f5d0\"],[0.7,\"#b8e186\"],[0.8,\"#7fbc41\"],[0.9,\"#4d9221\"],[1,\"#276419\"]]},\"xaxis\":{\"gridcolor\":\"#283442\",\"linecolor\":\"#506784\",\"ticks\":\"\",\"title\":{\"standoff\":15},\"zerolinecolor\":\"#283442\",\"automargin\":true,\"zerolinewidth\":2},\"yaxis\":{\"gridcolor\":\"#283442\",\"linecolor\":\"#506784\",\"ticks\":\"\",\"title\":{\"standoff\":15},\"zerolinecolor\":\"#283442\",\"automargin\":true,\"zerolinewidth\":2},\"scene\":{\"xaxis\":{\"backgroundcolor\":\"rgb(17,17,17)\",\"gridcolor\":\"#506784\",\"linecolor\":\"#506784\",\"showbackground\":true,\"ticks\":\"\",\"zerolinecolor\":\"#C8D4E3\",\"gridwidth\":2},\"yaxis\":{\"backgroundcolor\":\"rgb(17,17,17)\",\"gridcolor\":\"#506784\",\"linecolor\":\"#506784\",\"showbackground\":true,\"ticks\":\"\",\"zerolinecolor\":\"#C8D4E3\",\"gridwidth\":2},\"zaxis\":{\"backgroundcolor\":\"rgb(17,17,17)\",\"gridcolor\":\"#506784\",\"linecolor\":\"#506784\",\"showbackground\":true,\"ticks\":\"\",\"zerolinecolor\":\"#C8D4E3\",\"gridwidth\":2}},\"shapedefaults\":{\"line\":{\"color\":\"#f2f5fa\"}},\"annotationdefaults\":{\"arrowcolor\":\"#f2f5fa\",\"arrowhead\":0,\"arrowwidth\":1},\"geo\":{\"bgcolor\":\"rgb(17,17,17)\",\"landcolor\":\"rgb(17,17,17)\",\"subunitcolor\":\"#506784\",\"showland\":true,\"showlakes\":true,\"lakecolor\":\"rgb(17,17,17)\"},\"title\":{\"x\":0.05},\"updatemenudefaults\":{\"bgcolor\":\"#506784\",\"borderwidth\":0},\"sliderdefaults\":{\"bgcolor\":\"#C8D4E3\",\"borderwidth\":1,\"bordercolor\":\"rgb(17,17,17)\",\"tickwidth\":0},\"mapbox\":{\"style\":\"dark\"}}},\"font\":{\"family\":\"Arial\"},\"legend\":{\"font\":{\"size\":22,\"color\":\"black\"}},\"plot_bgcolor\":\"rgba(255,255,255,1) \",\"paper_bgcolor\":\"rgba(255,255,255,1) \",\"autosize\":false,\"width\":500,\"height\":500},                        {\"responsive\": true}                    ).then(function(){\n",
       "                            \n",
       "var gd = document.getElementById('bef13ec2-9cce-42c9-90c6-e601c346663d');\n",
       "var x = new MutationObserver(function (mutations, observer) {{\n",
       "        var display = window.getComputedStyle(gd).display;\n",
       "        if (!display || display === 'none') {{\n",
       "            console.log([gd, 'removed!']);\n",
       "            Plotly.purge(gd);\n",
       "            observer.disconnect();\n",
       "        }}\n",
       "}});\n",
       "\n",
       "// Listen for the removal of the full notebook cells\n",
       "var notebookContainer = gd.closest('#notebook-container');\n",
       "if (notebookContainer) {{\n",
       "    x.observe(notebookContainer, {childList: true});\n",
       "}}\n",
       "\n",
       "// Listen for the clearing of the current output cell\n",
       "var outputEl = gd.closest('.output');\n",
       "if (outputEl) {{\n",
       "    x.observe(outputEl, {childList: true});\n",
       "}}\n",
       "\n",
       "                        })                };                });            </script>        </div>"
      ]
     },
     "metadata": {},
     "output_type": "display_data"
    },
    {
     "name": "stdout",
     "output_type": "stream",
     "text": [
      "(93.4299759351284, 6.2423391702135875)\n",
      "(93.141345930696, 5.745154483183653)\n"
     ]
    }
   ],
   "execution_count": 8
  }
 ],
 "metadata": {
  "kernelspec": {
   "display_name": "Python 3 (ipykernel)",
   "language": "python",
   "name": "python3"
  },
  "language_info": {
   "codemirror_mode": {
    "name": "ipython",
    "version": 3
   },
   "file_extension": ".py",
   "mimetype": "text/x-python",
   "name": "python",
   "nbconvert_exporter": "python",
   "pygments_lexer": "ipython3",
   "version": "3.10.15"
  }
 },
 "nbformat": 4,
 "nbformat_minor": 5
}

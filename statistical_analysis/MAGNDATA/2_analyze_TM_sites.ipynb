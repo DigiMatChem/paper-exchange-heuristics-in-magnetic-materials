{
 "cells": [
  {
   "cell_type": "markdown",
   "id": "9759590414d83f6c",
   "metadata": {
    "collapsed": false,
    "jupyter": {
     "outputs_hidden": false
    }
   },
   "source": [
    "Analyze spin and bond angles of interactions with TM sites at both nodes (including all coordination environments)"
   ]
  },
  {
   "cell_type": "code",
   "execution_count": 1,
   "id": "d8eba8f903d31c75",
   "metadata": {
    "ExecuteTime": {
     "end_time": "2025-01-08T14:29:22.159079Z",
     "start_time": "2025-01-08T14:29:21.594460Z"
    },
    "collapsed": false,
    "jupyter": {
     "outputs_hidden": false
    }
   },
   "outputs": [],
   "source": [
    "import json\n",
    "from monty.json import MontyDecoder\n",
    "import os\n",
    "import plotly.graph_objects as go\n",
    "import plotly.express as px\n",
    "from pymatgen.core import Element\n",
    "\n",
    "from utils_kga.statistical_analysis.get_spin_and_bond_angle_statistics import *\n",
    "from utils_kga.statistical_analysis.ks_test import compute_ks_weighted\n",
    "from utils_kga.general import pretty_plot"
   ]
  },
  {
   "cell_type": "code",
   "execution_count": 2,
   "id": "ed9f13ff040eab81",
   "metadata": {
    "ExecuteTime": {
     "end_time": "2024-11-06T14:23:40.787625Z",
     "start_time": "2024-11-06T14:23:36.262641Z"
    },
    "collapsed": false,
    "jupyter": {
     "outputs_hidden": false
    }
   },
   "outputs": [],
   "source": [
    "# Load edge-df\n",
    "with open(\"data/dfs_of_magnetic_edge_information.json\") as f:\n",
    "    dict_all_stats = json.load(f)\n",
    "all_stats = {key: pd.DataFrame.from_dict(df) for key, df in dict_all_stats.items()}\n",
    "\n",
    "# For metadata filtering and computation of occurrences in magnetic primitive cells\n",
    "with open(\"../../data_retrieval_and_preprocessing_MAGNDATA/data/df_grouped_and_chosen_commensurate_MAGNDATA.json\") as f:\n",
    "    df = json.load(f, cls=MontyDecoder)"
   ]
  },
  {
   "cell_type": "code",
   "execution_count": 3,
   "id": "e68af73ac00d2f82",
   "metadata": {
    "ExecuteTime": {
     "end_time": "2024-11-06T14:23:41.923097Z",
     "start_time": "2024-11-06T14:23:40.917679Z"
    },
    "collapsed": false,
    "jupyter": {
     "outputs_hidden": false
    }
   },
   "outputs": [],
   "source": [
    "# Add is_tm bool for later easier analysis\n",
    "for ang_df in all_stats.values():\n",
    "    ang_df[\"site_is_tm\"] = ang_df[\"site_element\"].apply(lambda el: Element(el).is_transition_metal)\n",
    "    ang_df[\"site_to_is_tm\"] = ang_df[\"site_to_element\"].apply(lambda el: Element(el).is_transition_metal)\n",
    "    ang_df[\"ligand_el_set\"] = ang_df[\"ligand_elements\"].apply(lambda ls: set(ls))"
   ]
  },
  {
   "cell_type": "code",
   "execution_count": 4,
   "id": "259ff25a-e6e2-4144-8510-3cba4de6720e",
   "metadata": {
    "ExecuteTime": {
     "end_time": "2024-11-06T14:23:41.957641Z",
     "start_time": "2024-11-06T14:23:41.954298Z"
    }
   },
   "outputs": [],
   "source": [
    "description = [\n",
    "    \"all edges with TM sites at both nodes\",\n",
    "    \"all oxygen edges with TM sites at both nodes\",\n",
    "]\n",
    "\n",
    "plot_dir = \"plots/TM_sites_analysis/\"\n",
    "os.makedirs(plot_dir, exist_ok=True)\n",
    "\n",
    "one_d_hist_file = \"1d_histograms_bond_angle_occurrences_as_f_spin_angle.html\"\n",
    "one_d_hist_inverse_file = \"1d_histograms_spin_angle_occurrences_as_f_bond_angle.html\"\n",
    "two_d_hist_file = \"2d_histograms_bond_and_spin_angle_occurrences.html\""
   ]
  },
  {
   "cell_type": "code",
   "execution_count": 5,
   "id": "3040dc58-206f-4e0a-bd6d-5cc5c476f115",
   "metadata": {
    "ExecuteTime": {
     "end_time": "2024-11-06T14:25:19.756265Z",
     "start_time": "2024-11-06T14:25:00.907765Z"
    }
   },
   "outputs": [],
   "source": [
    "write_mode = \"w\"\n",
    "for normalize_bool, normalize_string in zip([True, False], [\"normalized occurrences\", \"absolute occurrences\"]):\n",
    "    for ligand_multiplicity_bool, ligand_multiplicity_string in zip([True, False], [\"ligand multiplicity included\", \"no ligand multiplicity included\"]):\n",
    "        for data_string in description:\n",
    "            entries = 0\n",
    "            all_spin_occus = []\n",
    "            for md_id, ang_df in all_stats.items():\n",
    "                subdf = ang_df.loc[(ang_df[\"site_is_tm\"]) \n",
    "                       & (ang_df[\"site_to_is_tm\"])\n",
    "                ]\n",
    "                if \"oxygen\" in data_string:\n",
    "                    subdf = subdf.loc[subdf[\"ligand_el_set\"]=={\"O\"}]\n",
    "                if not subdf.empty:\n",
    "                    entries += 1\n",
    "                    n_lattice_points = df.at[md_id, \"n_lattice_points\"]\n",
    "                    occus = get_bond_angle_occurrences(df=subdf,\n",
    "                                                                     include_ligand_multiplicity=ligand_multiplicity_bool,\n",
    "                                                                     normalize=normalize_bool,\n",
    "                                                                     n_lattice_points=n_lattice_points,\n",
    "                                                                     spin_angle_round=-1,  # only for overview plots\n",
    "                                                                     bond_angle_round=7)\n",
    "                    all_spin_occus.extend(occus)\n",
    "            all_spin_occus_df = pd.DataFrame(columns=[\"spin_angle\", \"bond_angle\", \"occurrence\"], data=all_spin_occus)\n",
    "            \n",
    "            # Create and save one-dimensional histograms of bond angle occurrences as f(spin angle)\n",
    "            one_d_fig = go.Figure(layout=go.Layout(xaxis=go.layout.XAxis(title=\"Bond angle (°)\"),\n",
    "                                                   yaxis=go.layout.YAxis(title=\"Occurrence\"),\n",
    "                                                   title=f\"{data_string} ({entries} structures, {np.sum(all_spin_occus_df.occurrence.values)} occurrences), {ligand_multiplicity_string}, {normalize_string}\"))\n",
    "            \n",
    "            for spin_ang in sorted(set(all_spin_occus_df[\"spin_angle\"].values)):\n",
    "                sub_df = all_spin_occus_df.loc[all_spin_occus_df[\"spin_angle\"]==spin_ang]\n",
    "                \n",
    "                one_d_fig.add_trace(go.Histogram(\n",
    "                    histfunc=\"sum\", \n",
    "                    x=sub_df[\"bond_angle\"].values, \n",
    "                    y=sub_df[\"occurrence\"].values, \n",
    "                    nbinsx=181,\n",
    "                    name=spin_ang\n",
    "                ))\n",
    "            one_d_fig = pretty_plot(one_d_fig)\n",
    "            one_d_fig.update_layout(legend_title_text=\"Spin angle (°)\")\n",
    "            one_d_fig.update_layout(barmode=\"overlay\")\n",
    "            one_d_fig.update_traces(opacity=0.75)\n",
    "            with open(os.path.join(plot_dir, one_d_hist_file), write_mode) as f:\n",
    "                f.write(one_d_fig.to_html(full_html=False, include_plotlyjs=\"cdn\"))\n",
    "\n",
    "            # Create and save one-dimensional histograms of spin angle occurrences as f(bond angle)\n",
    "            one_d_fig = go.Figure(layout=go.Layout(xaxis=go.layout.XAxis(title=\"Spin angle (°)\"),\n",
    "                                                   yaxis=go.layout.YAxis(title=\"Occurrence\"),\n",
    "                                                   title=f\"{data_string} ({entries} structures, {np.sum(all_spin_occus_df.occurrence.values)} occurrences), {ligand_multiplicity_string}, {normalize_string}\",\n",
    "                                                   colorway=px.colors.qualitative.Alphabet\n",
    "                                                  ),\n",
    "                                 )\n",
    "            \n",
    "            for bond_ang in sorted(set([round(ba, -1) for ba in all_spin_occus_df[\"bond_angle\"].values])):\n",
    "                sub_df = all_spin_occus_df.loc[round(all_spin_occus_df[\"bond_angle\"], -1) == bond_ang]\n",
    "                \n",
    "                one_d_fig.add_trace(go.Histogram(\n",
    "                    histfunc=\"sum\", \n",
    "                    x=sub_df[\"spin_angle\"].values, \n",
    "                    y=sub_df[\"occurrence\"].values, \n",
    "                    nbinsx=19,\n",
    "                    name=bond_ang\n",
    "                ))\n",
    "            one_d_fig = pretty_plot(one_d_fig)\n",
    "            one_d_fig.update_layout(legend_title_text=\"Bond angle (°)\")\n",
    "            one_d_fig.update_traces(opacity=0.75)\n",
    "            with open(os.path.join(plot_dir, one_d_hist_inverse_file), write_mode) as f:\n",
    "                f.write(one_d_fig.to_html(full_html=False, include_plotlyjs=\"cdn\"))\n",
    "            \n",
    "            # Create and save 2D histogram of spin and bond angle occurrences\n",
    "            two_d_fig = go.Figure(data=go.Histogram2d(\n",
    "                x=all_spin_occus_df[\"bond_angle\"].values,\n",
    "                y=all_spin_occus_df[\"spin_angle\"].values,\n",
    "                z=all_spin_occus_df[\"occurrence\"].values,\n",
    "                histfunc=\"sum\",  \n",
    "                nbinsx=181, \n",
    "                nbinsy=19\n",
    "                ),\n",
    "                layout=go.Layout(xaxis=go.layout.XAxis(title=\"Bond angle (°)\"),\n",
    "                                 yaxis=go.layout.YAxis(title=\"Spin angle (°)\"),\n",
    "                                 title=f\"{data_string} ({entries} structures, {np.sum(all_spin_occus_df.occurrence.values)} occurrences), {ligand_multiplicity_string}, {normalize_string}\")\n",
    "            )\n",
    "            # two_d_fig.show()\n",
    "            with open(os.path.join(plot_dir,two_d_hist_file), write_mode) as f:\n",
    "                f.write(two_d_fig.to_html(full_html=False, include_plotlyjs=\"cdn\"))\n",
    "            write_mode = \"a\""
   ]
  },
  {
   "cell_type": "code",
   "execution_count": 6,
   "id": "889504b55c44205c",
   "metadata": {},
   "outputs": [],
   "source": [
    "# Save special cases to pdf (FM and AFM subset, 10° angle tol for magnetic vectors), print out additional info on bond angle distributions mentioned in paper\n",
    "ligand_multiplicity_bool = False\n",
    "ligand_multiplicity_string = \"no ligand multiplicity included\"\n",
    "\n",
    "for normalize_bool, normalize_string in zip([True, False], [\"normalized occurrences\", \"absolute occurrences\"]):\n",
    "    for data_string in description:\n",
    "        entries = 0\n",
    "        all_spin_occus = []\n",
    "        for md_id, ang_df in all_stats.items():\n",
    "            subdf = ang_df.loc[(ang_df[\"site_is_tm\"])\n",
    "                       & (ang_df[\"site_to_is_tm\"])\n",
    "                ]\n",
    "            if \"oxygen\" in data_string:\n",
    "                subdf = subdf.loc[subdf[\"ligand_el_set\"]=={\"O\"}]\n",
    "            if not subdf.empty:\n",
    "                entries += 1\n",
    "                n_lattice_points = df.at[md_id, \"n_lattice_points\"]\n",
    "                occus = get_bond_angle_occurrences(df=subdf,\n",
    "                                                                 include_ligand_multiplicity=ligand_multiplicity_bool,\n",
    "                                                                 normalize=normalize_bool,\n",
    "                                                                 n_lattice_points=n_lattice_points,\n",
    "                                                                 spin_angle_round=0,\n",
    "                                                                 bond_angle_round=7)\n",
    "                all_spin_occus.extend(occus)\n",
    "        all_spin_occus_df = pd.DataFrame(columns=[\"spin_angle\", \"bond_angle\", \"occurrence\"], data=all_spin_occus)\n",
    "\n",
    "        for spin_ang_lim in [10.0, 170.0]:\n",
    "            if spin_ang_lim == 10.0:\n",
    "                sub_df = all_spin_occus_df.loc[all_spin_occus_df[\"spin_angle\"] <= spin_ang_lim]\n",
    "            else:\n",
    "                sub_df = all_spin_occus_df.loc[all_spin_occus_df[\"spin_angle\"] >= spin_ang_lim]\n",
    "\n",
    "            spin_ang_lim_string = f\">=_{spin_ang_lim}_spin_angle\" if spin_ang_lim == 170.0 else f\"<=_{spin_ang_lim}_spin_angle\"\n",
    "\n",
    "            one_d_fig = go.Figure(layout=go.Layout(xaxis=go.layout.XAxis(title=\"Bond angle (°)\"),\n",
    "                                                   yaxis=go.layout.YAxis(title=\"Occurrence\"),\n",
    "                                                   title=f\"{data_string} ({entries} structures, {np.sum(sub_df.occurrence.values)} / {np.sum(all_spin_occus_df.occurrence.values)} occurrences), {ligand_multiplicity_string}, {normalize_string}, spin_ang_lim = {spin_ang_lim}°\"))\n",
    "\n",
    "            one_d_fig.add_trace(go.Histogram(\n",
    "                histfunc=\"sum\",\n",
    "                x=sub_df[\"bond_angle\"].values,\n",
    "                y=sub_df[\"occurrence\"].values,\n",
    "                nbinsx=181,\n",
    "                name=spin_ang_lim\n",
    "            ))\n",
    "            one_d_fig = pretty_plot(one_d_fig)\n",
    "            one_d_fig.update_layout(title=dict(\n",
    "                text=f\"{data_string} ({entries} structures, {np.sum(sub_df.occurrence.values)} / {np.sum(all_spin_occus_df.occurrence.values)} occurrences), {ligand_multiplicity_string}, {normalize_string}, spin_ang_lim = {spin_ang_lim}°\",\n",
    "            font=dict(size=9)))\n",
    "            one_d_fig.update_layout(paper_bgcolor='rgba(255,255,255,1) ', plot_bgcolor='rgba(255,255,255,1) ')\n",
    "            one_d_fig.update_xaxes(tickwidth=1.5, ticklen=8, linewidth=1.5, mirror=True)\n",
    "            one_d_fig.update_yaxes(tickwidth=1.5, ticklen=8, linewidth=1.5, mirror=True, zeroline=False)\n",
    "\n",
    "            if normalize_bool:\n",
    "                pass\n",
    "                one_d_fig.update_layout(yaxis_range=[0, 30], xaxis_range=[56, 182])\n",
    "            else:\n",
    "                if \"oxygen\" in data_string:\n",
    "                    one_d_fig.update_layout(yaxis_range=[0, 390], xaxis_range=[70, 182])\n",
    "                else:\n",
    "                    one_d_fig.update_layout(yaxis_range=[0, 470], xaxis_range=[56, 182])\n",
    "            one_d_fig.write_image(os.path.join(plot_dir, f\"{data_string}_{normalize_string}_{ligand_multiplicity_string}_{spin_ang_lim_string}.pdf\"))"
   ]
  },
  {
   "cell_type": "code",
   "execution_count": 8,
   "id": "a4ff4a59ac6f0fa1",
   "metadata": {},
   "outputs": [
    {
     "name": "stdout",
     "output_type": "stream",
     "text": [
      "------\n",
      "all edges with TM sites at both nodes normalized occurrences ligand multiplicity included\n",
      "532 structures with FM and / or AFM interactions (10 deg angle tol).\n",
      "n_afm:  309.12\n",
      "n_fm:  174.98\n",
      "d, p:  (0.3255415242769396, 4.5518461139053615e-11)\n",
      "------\n",
      "all oxygen edges with TM sites at both nodes normalized occurrences ligand multiplicity included\n",
      "338 structures with FM and / or AFM interactions (10 deg angle tol).\n",
      "n_afm:  211.59\n",
      "n_fm:  90.64\n",
      "d, p:  (0.3463501790566806, 2.954687916331884e-07)\n",
      "------\n",
      "all edges with TM sites at both nodes normalized occurrences no ligand multiplicity included\n",
      "532 structures with FM and / or AFM interactions (10 deg angle tol).\n",
      "n_afm:  305.0\n",
      "n_fm:  178.03\n",
      "d, p:  (0.3431874664029563, 2.7821688464917822e-12)\n",
      "------\n",
      "all oxygen edges with TM sites at both nodes normalized occurrences no ligand multiplicity included\n",
      "338 structures with FM and / or AFM interactions (10 deg angle tol).\n",
      "n_afm:  214.37\n",
      "n_fm:  86.33\n",
      "d, p:  (0.33296436571525284, 1.2513356754913993e-06)\n",
      "------\n",
      "all edges with TM sites at both nodes absolute occurrences ligand multiplicity included\n",
      "532 structures with FM and / or AFM interactions (10 deg angle tol).\n",
      "n_afm:  12574.0\n",
      "n_fm:  10048.0\n",
      "d, p:  (0.23486577296797861, 1.852903549359176e-271)\n",
      "------\n",
      "all oxygen edges with TM sites at both nodes absolute occurrences ligand multiplicity included\n",
      "338 structures with FM and / or AFM interactions (10 deg angle tol).\n",
      "n_afm:  8846.0\n",
      "n_fm:  5312.0\n",
      "d, p:  (0.2774419518453647, 2.3410231836017235e-226)\n",
      "------\n",
      "all edges with TM sites at both nodes absolute occurrences no ligand multiplicity included\n",
      "532 structures with FM and / or AFM interactions (10 deg angle tol).\n",
      "n_afm:  9194.0\n",
      "n_fm:  6498.0\n",
      "d, p:  (0.28991547942363155, 7.250076951474599e-284)\n",
      "------\n",
      "all oxygen edges with TM sites at both nodes absolute occurrences no ligand multiplicity included\n",
      "338 structures with FM and / or AFM interactions (10 deg angle tol).\n",
      "n_afm:  6728.0\n",
      "n_fm:  3346.0\n",
      "d, p:  (0.3058336111124931, 4.737742675946366e-186)\n"
     ]
    }
   ],
   "source": [
    "# KS test w. 10 deg angle tol between neighboring magnetic vectors\n",
    "for normalize_bool, normalize_string in zip([True, False], [\"normalized occurrences\", \"absolute occurrences\"]):\n",
    "    for ligand_multiplicity_bool, ligand_multiplicity_string in zip([True, False], [\"ligand multiplicity included\", \"no ligand multiplicity included\"]):\n",
    "        for data_string in description:\n",
    "            afm_or_fm_entries = 0\n",
    "            all_spin_occus = []\n",
    "            for md_id, ang_df in all_stats.items():\n",
    "                subdf = ang_df.loc[(ang_df[\"site_is_tm\"])\n",
    "                       & (ang_df[\"site_to_is_tm\"])\n",
    "                ]\n",
    "                if \"oxygen\" in data_string:\n",
    "                    subdf = subdf.loc[subdf[\"ligand_el_set\"]=={\"O\"}]\n",
    "                if not subdf.empty:\n",
    "                    n_lattice_points = df.at[md_id, \"n_lattice_points\"]\n",
    "                    occus = get_bond_angle_occurrences(df=subdf,\n",
    "                                                                     include_ligand_multiplicity=ligand_multiplicity_bool,\n",
    "                                                                     normalize=normalize_bool,\n",
    "                                                                     n_lattice_points=n_lattice_points,\n",
    "                                                                     spin_angle_round=0,\n",
    "                                                                     bond_angle_round=7)\n",
    "                    sp_a = [ls[0] for ls in occus]\n",
    "                    if any([v <= 10.0 for v in sp_a]) or any([v >= 170.0 for v in sp_a]):\n",
    "                        afm_or_fm_entries += 1\n",
    "                    all_spin_occus.extend(occus)\n",
    "            print(\"------\")\n",
    "            print(data_string, normalize_string, ligand_multiplicity_string)\n",
    "            print(f\"{afm_or_fm_entries} structures with FM and / or AFM interactions (10 deg angle tol).\")\n",
    "\n",
    "            fm_occus = [ls for ls in all_spin_occus if ls[0] <= 10.0]\n",
    "            afm_occus = [ls for ls in all_spin_occus if ls[0] >= 170.0]\n",
    "            print(\"n_afm: \", round(sum([l[2] for l in afm_occus]), 2))\n",
    "            print(\"n_fm: \", round(sum([l[2] for l in fm_occus]), 2))\n",
    "            print(\"d, p: \", compute_ks_weighted(afm_occus, fm_occus))"
   ]
  }
 ],
 "metadata": {
  "kernelspec": {
   "display_name": "Python 3 (ipykernel)",
   "language": "python",
   "name": "python3"
  },
  "language_info": {
   "codemirror_mode": {
    "name": "ipython",
    "version": 3
   },
   "file_extension": ".py",
   "mimetype": "text/x-python",
   "name": "python",
   "nbconvert_exporter": "python",
   "pygments_lexer": "ipython3",
   "version": "3.10.15"
  }
 },
 "nbformat": 4,
 "nbformat_minor": 5
}

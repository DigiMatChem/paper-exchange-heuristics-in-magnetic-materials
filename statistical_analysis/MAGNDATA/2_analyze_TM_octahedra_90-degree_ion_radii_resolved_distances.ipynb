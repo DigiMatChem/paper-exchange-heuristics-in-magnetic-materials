{
 "cells": [
  {
   "cell_type": "markdown",
   "id": "6eff3347aef52643",
   "metadata": {},
   "source": [
    "Is direct exchange responsible for 90° AFM interactions between octahedrally connected TM sites?\n",
    "-> analyze distances between magnetic sites as a function of both ionic radii\n",
    "\n",
    "- assumption: correct oxidation state from BVA / pymatgen guessing method\n",
    "- not included in radii: high-spin / low-spin and local environment as either no reliable info from structure (hs vs. ls) or data not available for all coordination environments\n",
    "- missing ion radius data for connected TM in octahedra: only two compounds #0.447 (Mn1+) and #1.722 with \"Ru4.5+\" -> skipped in analysis\n",
    "\n",
    "- further important: MAGNDATA atomic positions often taken from diffraction experiment above magnetic ordering temperature -> may influence trends (structural transition accompanying magnetic transition may not be considered)"
   ]
  },
  {
   "cell_type": "code",
   "id": "initial_id",
   "metadata": {
    "ExecuteTime": {
     "end_time": "2025-01-24T10:26:21.995674Z",
     "start_time": "2025-01-24T10:26:13.973821Z"
    }
   },
   "source": [
    "import json\n",
    "import math\n",
    "from monty.json import MontyDecoder\n",
    "import numpy as np\n",
    "import os\n",
    "import pandas as pd\n",
    "import plotly.graph_objects as go\n",
    "import plotly.express as px\n",
    "from pymatgen.core import Element, Species\n",
    "\n",
    "from utils_kga.statistical_analysis.get_spin_and_bond_angle_statistics import get_bond_angle_interval_statistics\n",
    "from utils_kga.general import pretty_plot"
   ],
   "outputs": [],
   "execution_count": 1
  },
  {
   "cell_type": "code",
   "id": "d5bf2a1f6d4465de",
   "metadata": {
    "ExecuteTime": {
     "end_time": "2025-01-24T10:26:22.003561Z",
     "start_time": "2025-01-24T10:26:21.999917Z"
    }
   },
   "source": [
    "def weighted_lower_median(pairs):\n",
    "    thr = sum([p[1] for p in pairs]) / 2\n",
    "    pairs.sort(key = lambda p: p[0])\n",
    "    w_sums = 0\n",
    "    for a, w in pairs:\n",
    "        w_sums += w\n",
    "        if len(pairs) % 2 != 0 and w_sums > thr:\n",
    "            return a\n",
    "        elif len(pairs) % 2 == 0 and w_sums >= thr:\n",
    "            return a"
   ],
   "outputs": [],
   "execution_count": 2
  },
  {
   "cell_type": "code",
   "id": "f7e8e688eb96558d",
   "metadata": {
    "ExecuteTime": {
     "end_time": "2025-01-24T10:26:22.108494Z",
     "start_time": "2025-01-24T10:26:22.105710Z"
    }
   },
   "source": [
    "def get_radii_resolved_distance_metric(ang_df: pd.DataFrame):\n",
    "    ang_df[\"distance_difference_to_radii_sum_ratio\"] = ang_df.apply(\n",
    "        lambda x: ((x[\"distance\"] - (x[\"site_ionic_radius\"] + x[\"site_to_ionic_radius\"])) / (x[\"site_ionic_radius\"] + x[\"site_to_ionic_radius\"])), axis=1)"
   ],
   "outputs": [],
   "execution_count": 3
  },
  {
   "cell_type": "code",
   "id": "e013a63416d318da",
   "metadata": {
    "ExecuteTime": {
     "end_time": "2025-01-24T10:26:27.365066Z",
     "start_time": "2025-01-24T10:26:22.148441Z"
    }
   },
   "source": [
    "# Load edge-dfs\n",
    "with open(\"data/dfs_of_magnetic_edge_information.json\") as f:\n",
    "    dict_all_stats = json.load(f)\n",
    "all_stats = {key: pd.DataFrame.from_dict(df) for key, df in dict_all_stats.items()}\n",
    "\n",
    "# For metadata filtering\n",
    "with open(\"../../data_retrieval_and_preprocessing_MAGNDATA/data/df_grouped_and_chosen_commensurate_MAGNDATA.json\") as f:\n",
    "    df = json.load(f, cls=MontyDecoder)\n",
    "    \n",
    "description = [\n",
    "    \"all edges with TM octahedra at both nodes\",\n",
    "    \"all oxygen edges with TM octahedra at both nodes\",\n",
    "]\n",
    "colors = px.colors.qualitative.Plotly\n",
    "\n",
    "plot_dir = \"plots/TM_octahedra_analysis_distances\"\n",
    "os.makedirs(plot_dir, exist_ok=True)"
   ],
   "outputs": [],
   "execution_count": 4
  },
  {
   "cell_type": "code",
   "id": "8570966429f83f86",
   "metadata": {
    "ExecuteTime": {
     "end_time": "2025-01-24T10:26:56.307394Z",
     "start_time": "2025-01-24T10:26:28.042277Z"
    }
   },
   "source": [
    "skip_ids = []\n",
    "for md_id, ang_df in all_stats.items():\n",
    "    ang_df[\"spin_angle\"] = ang_df[\"spin_angle\"].apply(lambda x: round(x, 0))\n",
    "    ang_df[\"site_is_tm\"] = ang_df[\"site_element\"].apply(lambda el: Element(el).is_transition_metal)\n",
    "    ang_df[\"site_to_is_tm\"] = ang_df[\"site_to_element\"].apply(lambda el: Element(el).is_transition_metal)\n",
    "    ang_df[\"ligand_el_set\"] = ang_df[\"ligand_elements\"].apply(lambda ls: set(ls))\n",
    "    ang_df[\"av_bond_angle\"] = ang_df[\"mag_ligand_mag_angle\"].apply(lambda ls: np.mean(np.array(ls)))\n",
    "    \n",
    "    ang_df[\"site_species\"] = ang_df.apply(lambda x: x[\"site_element\"] + str(x[\"site_oxidation\"]) + \"+\", axis=1)\n",
    "    ang_df[\"site_ionic_radius\"] = ang_df.apply(lambda x: Species(symbol=x[\"site_element\"], oxidation_state=x[\"site_oxidation\"]).ionic_radius, axis=1)\n",
    "    if None in ang_df[\"site_ionic_radius\"].values or True in [math.isnan(v) for v in ang_df[\"site_ionic_radius\"].values]: \n",
    "        if not ang_df.loc[(~ang_df[\"site_ionic_radius\"].notna()) \n",
    "                                    & (ang_df[\"site_ce\"]==\"O:6\") \n",
    "                                    & (ang_df[\"site_to_ce\"]==\"O:6\")\n",
    "                                    & (ang_df[\"site_is_tm\"])\n",
    "                                    & (ang_df[\"site_to_is_tm\"])].empty:# check for missing ionic radii of connected TM sites in octahedra \n",
    "            print(md_id, set(ang_df.loc[(~ang_df[\"site_ionic_radius\"].notna()) \n",
    "                                        & (ang_df[\"site_ce\"]==\"O:6\") \n",
    "                                        & (ang_df[\"site_to_ce\"]==\"O:6\")\n",
    "                                        & (ang_df[\"site_is_tm\"])\n",
    "                                        & (ang_df[\"site_to_is_tm\"])][\"site_species\"].values))\n",
    "            skip_ids.append(md_id)\n",
    "    \n",
    "    ang_df[\"site_to_species\"] = ang_df.apply(lambda x: x[\"site_to_element\"] + str(x[\"site_to_oxidation\"]) + \"+\", axis=1)\n",
    "    ang_df[\"site_to_ionic_radius\"] = ang_df.apply(lambda x: Species(symbol=x[\"site_to_element\"], oxidation_state=x[\"site_to_oxidation\"]).ionic_radius, axis=1)"
   ],
   "outputs": [
    {
     "name": "stdout",
     "output_type": "stream",
     "text": [
      "0.447 {'Mn1+'}\n",
      "1.722 {'Ru4.5+'}\n"
     ]
    }
   ],
   "execution_count": 5
  },
  {
   "cell_type": "code",
   "id": "75ecaa7351689f14",
   "metadata": {
    "ExecuteTime": {
     "end_time": "2025-01-24T10:28:30.020335Z",
     "start_time": "2025-01-24T10:28:11.423754Z"
    }
   },
   "source": [
    "stats_dict_all = {}\n",
    "bond_angle_ranges = [(89, 91), (85, 95), (80, 100), (75, 105)]\n",
    "y_lim_range = dict(zip(bond_angle_ranges, [40, 120, 120, 120]))  # for plotting of average and median\n",
    "normalize_string = \"absolute occurrences\"\n",
    "for bond_angle_range90 in bond_angle_ranges:\n",
    "    for ligand_multiplicity_bool, ligand_multiplicity_string in zip([False], [\"no ligand multiplicity included\"]):\n",
    "        for data_string in description:\n",
    "            metrics = {\"distance_difference_to_radii_sum_ratio\": {\"FM\": [], \"AFM\": []}}\n",
    "            compounds = {\"FM\": [], \"AFM\": []}\n",
    "            for md_id, ang_df in all_stats.items():\n",
    "                if md_id not in skip_ids:\n",
    "                    subdf = ang_df.loc[(ang_df[\"site_ce\"]==\"O:6\") \n",
    "                           & (ang_df[\"site_to_ce\"]==\"O:6\")\n",
    "                           & (ang_df[\"site_is_tm\"]) \n",
    "                           & (ang_df[\"site_to_is_tm\"])\n",
    "                    ]\n",
    "                    if \"oxygen\" in data_string:\n",
    "                        subdf = subdf.loc[subdf[\"ligand_el_set\"]=={\"O\"}]\n",
    "                        \n",
    "                    n_lattice_points = df.at[md_id, \"n_lattice_points\"]\n",
    "                    \n",
    "                    for magnet_type, spin_angle_condition in zip([\"FM\", \"AFM\"], [subdf[\"spin_angle\"]<=10.0, subdf[\"spin_angle\"]>=170.0]):\n",
    "                        magnet_df = subdf.loc[spin_angle_condition]\n",
    "                        \n",
    "                        try:\n",
    "                            get_radii_resolved_distance_metric(magnet_df)\n",
    "                        except TypeError:  # no radii present -> already checked above that only 2 structures of KGA-relevant interactions concerned\n",
    "                            continue\n",
    "                            \n",
    "                        for metric in metrics:\n",
    "                            occus = get_bond_angle_interval_statistics(df=magnet_df, include_ligand_multiplicity=ligand_multiplicity_bool,\n",
    "                                                                       analyze_column=metric, n_lattice_points=n_lattice_points,\n",
    "                                                                       bond_angle_interval=bond_angle_range90)\n",
    "                            if occus:\n",
    "                                metrics[metric][magnet_type].extend(occus)\n",
    "                                compounds[magnet_type].append(md_id)\n",
    "            n_compounds = {k: len(v) for k, v in compounds.items()}\n",
    "            for metric, metric_dict in metrics.items():\n",
    "                stats_dict = {}\n",
    "                one_d_fig = go.Figure(layout=go.Layout(xaxis=go.layout.XAxis(title=metric),\n",
    "                                                       yaxis=go.layout.YAxis(title=\"Occurrence\"),\n",
    "                                                       title=f\"{metric}, {data_string}, {ligand_multiplicity_string}, {normalize_string}, bond angles={bond_angle_range90}, compounds={n_compounds}\"))\n",
    "                for mag_idx, mag_string in enumerate([\"FM\", \"AFM\"]):\n",
    "                    mag_df = pd.DataFrame(columns=[\"distance_metric\", \"occurrence\"], data=metric_dict[mag_string])\n",
    "                    av = np.average(mag_df[\"distance_metric\"], weights=mag_df[\"occurrence\"])\n",
    "                    median = weighted_lower_median(metric_dict[mag_string])\n",
    "                    one_d_fig.add_trace(go.Histogram(\n",
    "                        histfunc=\"sum\",\n",
    "                        x=mag_df[\"distance_metric\"].values,\n",
    "                        y=mag_df[\"occurrence\"].values,\n",
    "                        name=mag_string,\n",
    "                        marker_color= colors[mag_idx]\n",
    "                    ))\n",
    "                    for stat, stat_string in zip([av, median], [\"av\", \"median\"]):\n",
    "                        one_d_fig.add_trace(go.Scatter(\n",
    "                            x=[stat, stat],\n",
    "                            y=[0, y_lim_range[bond_angle_range90]],\n",
    "                            mode=\"lines\",\n",
    "                            marker_color=colors[mag_idx+2],\n",
    "                            name=mag_string + f\" {stat_string} ({round(stat, 2)})\"\n",
    "                        ))\n",
    "                        stats_dict[f\"{mag_string} {stat_string}\"] = stat\n",
    "                    stats_dict_all.update({f\"{bond_angle_range90}-{data_string}-{metric}\": stats_dict})    \n",
    "                one_d_fig = pretty_plot(one_d_fig)\n",
    "                one_d_fig.update_layout(title=dict(font=dict(size=10)))\n",
    "                one_d_fig.write_html(os.path.join(plot_dir, f\"{metric}_{data_string}_{bond_angle_range90[0]}-{bond_angle_range90[1]}-deg_bond_angles.html\"))\n",
    "\n",
    "                # Save example to pdf\n",
    "                if bond_angle_range90 == (85, 95) and data_string == \"all edges with TM octahedra at both nodes\":\n",
    "                    one_d_fig = go.Figure(layout=go.Layout(xaxis=go.layout.XAxis(title=metric),\n",
    "                                                       yaxis=go.layout.YAxis(title=\"Occurrence\"),\n",
    "                                                       title=f\"{metric}, {data_string}, {ligand_multiplicity_string}, {normalize_string}, bond angles={bond_angle_range90}, compounds={n_compounds}\"))\n",
    "                    for mag_string in [\"FM\", \"AFM\"]:\n",
    "                        one_d_fig = go.Figure(layout=go.Layout(xaxis=go.layout.XAxis(title=metric),\n",
    "                                                       yaxis=go.layout.YAxis(title=\"Occurrence\"),\n",
    "                                                       title=f\"{metric}, {data_string}, {ligand_multiplicity_string}, {normalize_string}, bond angles={bond_angle_range90}, {mag_string}\"))\n",
    "                        mag_df = pd.DataFrame(columns=[\"distance_metric\", \"occurrence\"], data=metric_dict[mag_string])\n",
    "                        av = np.average(mag_df[\"distance_metric\"], weights=mag_df[\"occurrence\"])\n",
    "                        median = weighted_lower_median(metric_dict[mag_string])\n",
    "                        one_d_fig.add_trace(go.Histogram(\n",
    "                            histfunc=\"sum\",\n",
    "                            x=mag_df[\"distance_metric\"].values,\n",
    "                            y=mag_df[\"occurrence\"].values,\n",
    "                            name=mag_string,\n",
    "                            showlegend=False,\n",
    "                            marker_color=\"#025268\"\n",
    "                        ))\n",
    "                        for stat, stat_string in zip([av, median], [\"av\", \"median\"]):\n",
    "                            one_d_fig.add_trace(go.Scatter(\n",
    "                                x=[stat, stat],\n",
    "                                y=[0, 140],\n",
    "                                mode=\"lines\",\n",
    "                                name=mag_string + f\" {stat_string} ({round(stat, 2)})\",\n",
    "                                showlegend=False,\n",
    "                                line=dict(width=2)\n",
    "                            ))\n",
    "                        one_d_fig = pretty_plot(one_d_fig)\n",
    "                        one_d_fig.update_layout(title=dict(font=dict(size=10)), legend=dict(font=dict(size=10)))\n",
    "                        one_d_fig.update_layout(xaxis_range=[0.4, 1.7])\n",
    "                        one_d_fig.update_layout(yaxis_range=[0, 140])\n",
    "                        one_d_fig.update_yaxes(zeroline=False)\n",
    "                        one_d_fig.write_image(os.path.join(plot_dir, f\"{metric}_{data_string}_{bond_angle_range90[0]}-{bond_angle_range90[1]}-deg_bond_angles_{mag_string}.pdf\"))"
   ],
   "outputs": [],
   "execution_count": 8
  },
  {
   "cell_type": "code",
   "id": "3e29d9eb-75b5-4149-877c-bf78f092f509",
   "metadata": {
    "ExecuteTime": {
     "end_time": "2025-01-24T10:28:30.043693Z",
     "start_time": "2025-01-24T10:28:30.027954Z"
    }
   },
   "source": [
    "av_median_df = pd.DataFrame(stats_dict_all).T\n",
    "av_median_df"
   ],
   "outputs": [
    {
     "data": {
      "text/plain": [
       "                                                       FM av  FM median  \\\n",
       "(89, 91)-all edges with TM octahedra at both no...  0.885019       0.84   \n",
       "(89, 91)-all oxygen edges with TM octahedra at ...  0.740868       0.75   \n",
       "(85, 95)-all edges with TM octahedra at both no...  0.926402       0.90   \n",
       "(85, 95)-all oxygen edges with TM octahedra at ...  0.829479       0.84   \n",
       "(80, 100)-all edges with TM octahedra at both n...  0.921468       0.90   \n",
       "(80, 100)-all oxygen edges with TM octahedra at...  0.850085       0.86   \n",
       "(75, 105)-all edges with TM octahedra at both n...  0.922749       0.90   \n",
       "(75, 105)-all oxygen edges with TM octahedra at...  0.855485       0.85   \n",
       "\n",
       "                                                      AFM av  AFM median  \n",
       "(89, 91)-all edges with TM octahedra at both no...  0.818374        0.77  \n",
       "(89, 91)-all oxygen edges with TM octahedra at ...  0.726827        0.70  \n",
       "(85, 95)-all edges with TM octahedra at both no...  0.800077        0.78  \n",
       "(85, 95)-all oxygen edges with TM octahedra at ...  0.756187        0.75  \n",
       "(80, 100)-all edges with TM octahedra at both n...  0.854046        0.89  \n",
       "(80, 100)-all oxygen edges with TM octahedra at...  0.814915        0.81  \n",
       "(75, 105)-all edges with TM octahedra at both n...  0.884133        0.90  \n",
       "(75, 105)-all oxygen edges with TM octahedra at...  0.848758        0.88  "
      ],
      "text/html": [
       "<div>\n",
       "<style scoped>\n",
       "    .dataframe tbody tr th:only-of-type {\n",
       "        vertical-align: middle;\n",
       "    }\n",
       "\n",
       "    .dataframe tbody tr th {\n",
       "        vertical-align: top;\n",
       "    }\n",
       "\n",
       "    .dataframe thead th {\n",
       "        text-align: right;\n",
       "    }\n",
       "</style>\n",
       "<table border=\"1\" class=\"dataframe\">\n",
       "  <thead>\n",
       "    <tr style=\"text-align: right;\">\n",
       "      <th></th>\n",
       "      <th>FM av</th>\n",
       "      <th>FM median</th>\n",
       "      <th>AFM av</th>\n",
       "      <th>AFM median</th>\n",
       "    </tr>\n",
       "  </thead>\n",
       "  <tbody>\n",
       "    <tr>\n",
       "      <th>(89, 91)-all edges with TM octahedra at both nodes-distance_difference_to_radii_sum_ratio</th>\n",
       "      <td>0.885019</td>\n",
       "      <td>0.84</td>\n",
       "      <td>0.818374</td>\n",
       "      <td>0.77</td>\n",
       "    </tr>\n",
       "    <tr>\n",
       "      <th>(89, 91)-all oxygen edges with TM octahedra at both nodes-distance_difference_to_radii_sum_ratio</th>\n",
       "      <td>0.740868</td>\n",
       "      <td>0.75</td>\n",
       "      <td>0.726827</td>\n",
       "      <td>0.70</td>\n",
       "    </tr>\n",
       "    <tr>\n",
       "      <th>(85, 95)-all edges with TM octahedra at both nodes-distance_difference_to_radii_sum_ratio</th>\n",
       "      <td>0.926402</td>\n",
       "      <td>0.90</td>\n",
       "      <td>0.800077</td>\n",
       "      <td>0.78</td>\n",
       "    </tr>\n",
       "    <tr>\n",
       "      <th>(85, 95)-all oxygen edges with TM octahedra at both nodes-distance_difference_to_radii_sum_ratio</th>\n",
       "      <td>0.829479</td>\n",
       "      <td>0.84</td>\n",
       "      <td>0.756187</td>\n",
       "      <td>0.75</td>\n",
       "    </tr>\n",
       "    <tr>\n",
       "      <th>(80, 100)-all edges with TM octahedra at both nodes-distance_difference_to_radii_sum_ratio</th>\n",
       "      <td>0.921468</td>\n",
       "      <td>0.90</td>\n",
       "      <td>0.854046</td>\n",
       "      <td>0.89</td>\n",
       "    </tr>\n",
       "    <tr>\n",
       "      <th>(80, 100)-all oxygen edges with TM octahedra at both nodes-distance_difference_to_radii_sum_ratio</th>\n",
       "      <td>0.850085</td>\n",
       "      <td>0.86</td>\n",
       "      <td>0.814915</td>\n",
       "      <td>0.81</td>\n",
       "    </tr>\n",
       "    <tr>\n",
       "      <th>(75, 105)-all edges with TM octahedra at both nodes-distance_difference_to_radii_sum_ratio</th>\n",
       "      <td>0.922749</td>\n",
       "      <td>0.90</td>\n",
       "      <td>0.884133</td>\n",
       "      <td>0.90</td>\n",
       "    </tr>\n",
       "    <tr>\n",
       "      <th>(75, 105)-all oxygen edges with TM octahedra at both nodes-distance_difference_to_radii_sum_ratio</th>\n",
       "      <td>0.855485</td>\n",
       "      <td>0.85</td>\n",
       "      <td>0.848758</td>\n",
       "      <td>0.88</td>\n",
       "    </tr>\n",
       "  </tbody>\n",
       "</table>\n",
       "</div>"
      ]
     },
     "execution_count": 9,
     "metadata": {},
     "output_type": "execute_result"
    }
   ],
   "execution_count": 9
  }
 ],
 "metadata": {
  "kernelspec": {
   "display_name": "Python 3 (ipykernel)",
   "language": "python",
   "name": "python3"
  },
  "language_info": {
   "codemirror_mode": {
    "name": "ipython",
    "version": 3
   },
   "file_extension": ".py",
   "mimetype": "text/x-python",
   "name": "python",
   "nbconvert_exporter": "python",
   "pygments_lexer": "ipython3",
   "version": "3.10.15"
  }
 },
 "nbformat": 4,
 "nbformat_minor": 5
}

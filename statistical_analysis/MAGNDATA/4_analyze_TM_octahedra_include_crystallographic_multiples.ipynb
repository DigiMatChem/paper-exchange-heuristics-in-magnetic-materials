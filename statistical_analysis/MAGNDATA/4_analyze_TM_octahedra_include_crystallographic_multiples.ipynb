{
 "cells": [
  {
   "cell_type": "markdown",
   "id": "9759590414d83f6c",
   "metadata": {
    "collapsed": false,
    "jupyter": {
     "outputs_hidden": false
    }
   },
   "source": [
    "Repeat 2_analyze_TM_octahedra.ipynb, but include the entire commensurate MAGNDATA dataset (including crystallographic multiples) to demonstrate TM_oct trends are not function of chosen subset"
   ]
  },
  {
   "cell_type": "code",
   "execution_count": 1,
   "id": "d8eba8f903d31c75",
   "metadata": {
    "ExecuteTime": {
     "end_time": "2025-01-22T17:19:02.015064Z",
     "start_time": "2025-01-22T17:18:59.269041Z"
    },
    "collapsed": false,
    "jupyter": {
     "outputs_hidden": false
    }
   },
   "outputs": [],
   "source": [
    "import json\n",
    "from monty.json import MontyDecoder\n",
    "import os\n",
    "import plotly.graph_objects as go\n",
    "import plotly.express as px\n",
    "from pymatgen.core import Element\n",
    "\n",
    "from utils_kga.statistical_analysis.get_spin_and_bond_angle_statistics import *\n",
    "from utils_kga.statistical_analysis.ks_test import compute_ks_weighted\n",
    "from utils_kga.general import pretty_plot"
   ]
  },
  {
   "cell_type": "code",
   "execution_count": 2,
   "id": "ed9f13ff040eab81",
   "metadata": {
    "ExecuteTime": {
     "end_time": "2025-01-22T17:19:08.993126Z",
     "start_time": "2025-01-22T17:19:02.027509Z"
    },
    "collapsed": false,
    "jupyter": {
     "outputs_hidden": false
    }
   },
   "outputs": [],
   "source": [
    "# Load edge-df\n",
    "with open(\"data/dfs_of_magnetic_edge_information_include_crystallographic_multiples.json\") as f:\n",
    "    dict_all_stats = json.load(f)\n",
    "all_stats = {key: pd.DataFrame.from_dict(df) for key, df in dict_all_stats.items()}\n",
    "\n",
    "# For metadata filtering\n",
    "with open(\"../../data_retrieval_and_preprocessing_MAGNDATA/data/df_grouped_and_chosen_commensurate_MAGNDATA.json\") as f:\n",
    "    df = json.load(f, cls=MontyDecoder)"
   ]
  },
  {
   "cell_type": "code",
   "execution_count": 3,
   "id": "e68af73ac00d2f82",
   "metadata": {
    "ExecuteTime": {
     "end_time": "2025-01-22T17:19:10.501594Z",
     "start_time": "2025-01-22T17:19:09.125639Z"
    },
    "collapsed": false,
    "jupyter": {
     "outputs_hidden": false
    }
   },
   "outputs": [],
   "source": [
    "# Add is_tm bool for later easier analysis\n",
    "for ang_df in all_stats.values():\n",
    "    ang_df[\"site_is_tm\"] = ang_df[\"site_element\"].apply(lambda el: Element(el).is_transition_metal)\n",
    "    ang_df[\"site_to_is_tm\"] = ang_df[\"site_to_element\"].apply(lambda el: Element(el).is_transition_metal)\n",
    "    ang_df[\"ligand_el_set\"] = ang_df[\"ligand_elements\"].apply(lambda ls: set(ls))"
   ]
  },
  {
   "cell_type": "code",
   "execution_count": 4,
   "id": "259ff25a-e6e2-4144-8510-3cba4de6720e",
   "metadata": {
    "ExecuteTime": {
     "end_time": "2025-01-22T17:19:10.535270Z",
     "start_time": "2025-01-22T17:19:10.531822Z"
    }
   },
   "outputs": [],
   "source": [
    "description = [\n",
    "    \"all edges with TM octahedra at both nodes\",\n",
    "    \"all oxygen edges with TM octahedra at both nodes\",\n",
    "]\n",
    "plot_dir = \"plots/TM_octahedra_analysis_include_crystallographic_multiples/\"\n",
    "os.makedirs(plot_dir, exist_ok=True)\n",
    "one_d_hist_file = \"plots/TM_octahedra_analysis_include_crystallographic_multiples/1d_histograms_bond_angle_occurrences_as_f_spin_angle.html\"\n",
    "one_d_hist_inverse_file = \"plots/TM_octahedra_analysis_include_crystallographic_multiples/1d_histograms_spin_angle_occurrences_as_f_bond_angle.html\"\n",
    "two_d_hist_file = \"plots/TM_octahedra_analysis_include_crystallographic_multiples/2d_histograms_bond_and_spin_angle_occurrences.html\"\n",
    "\n",
    "# List of dicts for later evaluation of important occurrence peaks in subdatasets\n",
    "special_occus = []"
   ]
  },
  {
   "cell_type": "code",
   "execution_count": 5,
   "id": "3040dc58-206f-4e0a-bd6d-5cc5c476f115",
   "metadata": {
    "ExecuteTime": {
     "end_time": "2025-01-10T11:46:21.543733Z",
     "start_time": "2025-01-10T11:45:59.462137Z"
    }
   },
   "outputs": [],
   "source": [
    "write_mode = \"w\"\n",
    "for normalize_bool, normalize_string in zip([True, False], [\"normalized occurrences\", \"absolute occurrences\"]):\n",
    "    for ligand_multiplicity_bool, ligand_multiplicity_string in zip([True, False], [\"ligand multiplicity included\", \"no ligand multiplicity included\"]):\n",
    "        for data_string in description:\n",
    "            entries = 0\n",
    "            all_spin_occus = []\n",
    "            for md_id, ang_df in all_stats.items():\n",
    "                subdf = ang_df.loc[(ang_df[\"site_ce\"]==\"O:6\") \n",
    "                       & (ang_df[\"site_to_ce\"]==\"O:6\")\n",
    "                       & (ang_df[\"site_is_tm\"]) \n",
    "                       & (ang_df[\"site_to_is_tm\"])\n",
    "                ]\n",
    "                if \"oxygen\" in data_string:\n",
    "                    subdf = subdf.loc[subdf[\"ligand_el_set\"]=={\"O\"}]\n",
    "                if not subdf.empty:\n",
    "                    entries += 1\n",
    "                    n_lattice_points = df.at[md_id, \"n_lattice_points\"]\n",
    "                    occus = get_bond_angle_occurrences(df=subdf,\n",
    "                                                                     include_ligand_multiplicity=ligand_multiplicity_bool,\n",
    "                                                                     normalize=normalize_bool,\n",
    "                                                                     n_lattice_points=n_lattice_points,\n",
    "                                                                     spin_angle_round=-1,  # for overview\n",
    "                                                                     bond_angle_round=7)\n",
    "                    all_spin_occus.extend(occus)\n",
    "            all_spin_occus_df = pd.DataFrame(columns=[\"spin_angle\", \"bond_angle\", \"occurrence\"], data=all_spin_occus)\n",
    "            \n",
    "            # Create and save one-dimensional histograms of bond angle occurrences as f(spin angle)\n",
    "            one_d_fig = go.Figure(layout=go.Layout(xaxis=go.layout.XAxis(title=\"Bond angle (deg)\"),\n",
    "                                                   yaxis=go.layout.YAxis(title=\"Occurrence\"),\n",
    "                                                   title=f\"{data_string} ({entries} structures, {np.sum(all_spin_occus_df.occurrence.values)} occurrences), {ligand_multiplicity_string}, {normalize_string}\"))\n",
    "            \n",
    "            for spin_ang in sorted(set(all_spin_occus_df[\"spin_angle\"].values)):\n",
    "                sub_df = all_spin_occus_df.loc[all_spin_occus_df[\"spin_angle\"]==spin_ang]\n",
    "                \n",
    "                one_d_fig.add_trace(go.Histogram(\n",
    "                    histfunc=\"sum\", \n",
    "                    x=sub_df[\"bond_angle\"].values, \n",
    "                    y=sub_df[\"occurrence\"].values, \n",
    "                    nbinsx=181,\n",
    "                    name=spin_ang\n",
    "                ))\n",
    "            one_d_fig = pretty_plot(one_d_fig)\n",
    "            one_d_fig.update_layout(legend_title_text=\"Spin angle (deg)\")\n",
    "            one_d_fig.update_layout(barmode=\"overlay\")\n",
    "            one_d_fig.update_traces(opacity=0.75)\n",
    "            with open(one_d_hist_file, write_mode) as f:\n",
    "                f.write(one_d_fig.to_html(full_html=False, include_plotlyjs=\"cdn\"))\n",
    "\n",
    "            # Create and save one-dimensional histograms of spin angle occurrences as f(bond angle)\n",
    "            one_d_fig = go.Figure(layout=go.Layout(xaxis=go.layout.XAxis(title=\"Spin angle (deg)\"),\n",
    "                                                   yaxis=go.layout.YAxis(title=\"Occurrence\"),\n",
    "                                                   title=f\"{data_string} ({entries} structures, {np.sum(all_spin_occus_df.occurrence.values)} occurrences), {ligand_multiplicity_string}, {normalize_string}\",\n",
    "                                                   colorway=px.colors.qualitative.Alphabet\n",
    "                                                  ),\n",
    "                                 )\n",
    "            \n",
    "            for bond_ang in sorted(set([round(ba, -1) for ba in all_spin_occus_df[\"bond_angle\"].values])):\n",
    "                sub_df = all_spin_occus_df.loc[round(all_spin_occus_df[\"bond_angle\"], -1) == bond_ang]\n",
    "                \n",
    "                one_d_fig.add_trace(go.Histogram(\n",
    "                    histfunc=\"sum\", \n",
    "                    x=sub_df[\"spin_angle\"].values, \n",
    "                    y=sub_df[\"occurrence\"].values, \n",
    "                    nbinsx=19,\n",
    "                    name=bond_ang\n",
    "                ))\n",
    "            one_d_fig = pretty_plot(one_d_fig)\n",
    "            one_d_fig.update_layout(legend_title_text=\"Bond angle (deg)\")\n",
    "            one_d_fig.update_traces(opacity=0.75)\n",
    "            with open(one_d_hist_inverse_file, write_mode) as f:\n",
    "                f.write(one_d_fig.to_html(full_html=False, include_plotlyjs=\"cdn\"))\n",
    "            \n",
    "            # Create and save 2D histogram of spin and bond angle occurrences\n",
    "            two_d_fig = go.Figure(data=go.Histogram2d(\n",
    "                x=all_spin_occus_df[\"bond_angle\"].values,\n",
    "                y=all_spin_occus_df[\"spin_angle\"].values,\n",
    "                z=all_spin_occus_df[\"occurrence\"].values,\n",
    "                histfunc=\"sum\",  \n",
    "                nbinsx=181, \n",
    "                nbinsy=19\n",
    "                ),\n",
    "                layout=go.Layout(xaxis=go.layout.XAxis(title=\"Bond angle (deg)\"),\n",
    "                                 yaxis=go.layout.YAxis(title=\"Spin angle (deg)\"),\n",
    "                                 title=f\"{data_string} ({entries} structures, {np.sum(all_spin_occus_df.occurrence.values)} occurrences), {ligand_multiplicity_string}, {normalize_string}\")\n",
    "            )\n",
    "            # two_d_fig.show()\n",
    "            with open(two_d_hist_file, write_mode) as f:\n",
    "                f.write(two_d_fig.to_html(full_html=False, include_plotlyjs=\"cdn\"))\n",
    "            write_mode = \"a\""
   ]
  },
  {
   "cell_type": "code",
   "execution_count": 6,
   "id": "7aa67b0b-6182-4e31-8e91-6773996c23f9",
   "metadata": {
    "ExecuteTime": {
     "end_time": "2025-01-10T11:46:27.590594Z",
     "start_time": "2025-01-10T11:46:21.615955Z"
    }
   },
   "outputs": [],
   "source": [
    "# Save special cases to pdf (FM and AFM subset)\n",
    "normalize_bool = False\n",
    "normalize_string = \"absolute occurrences\"\n",
    "ligand_multiplicity_bool = False\n",
    "ligand_multiplicity_string = \"no ligand multiplicity included\"\n",
    "\n",
    "for data_string in description:\n",
    "    entries = 0\n",
    "    almost_collinear_entries = 0\n",
    "    all_spin_occus = []\n",
    "    for md_id, ang_df in all_stats.items():\n",
    "        subdf = ang_df.loc[(ang_df[\"site_ce\"]==\"O:6\") \n",
    "               & (ang_df[\"site_to_ce\"]==\"O:6\")\n",
    "               & (ang_df[\"site_is_tm\"]) \n",
    "               & (ang_df[\"site_to_is_tm\"])\n",
    "        ]\n",
    "        if \"oxygen\" in data_string:\n",
    "            subdf = subdf.loc[subdf[\"ligand_el_set\"]=={\"O\"}]\n",
    "        if not subdf.empty:\n",
    "            entries += 1\n",
    "            n_lattice_points = df.at[md_id, \"n_lattice_points\"]\n",
    "            occus = get_bond_angle_occurrences(df=subdf,\n",
    "                                                             include_ligand_multiplicity=ligand_multiplicity_bool,\n",
    "                                                             normalize=normalize_bool,\n",
    "                                                             n_lattice_points=n_lattice_points,\n",
    "                                                             spin_angle_round=0,\n",
    "                                                             bond_angle_round=7)\n",
    "            all_spin_occus.extend(occus)\n",
    "            if any([True for e in occus if (e[0] >= 170.0 or e[0] <= 10.0)]):\n",
    "                almost_collinear_entries += 1\n",
    "    all_spin_occus_df = pd.DataFrame(columns=[\"spin_angle\", \"bond_angle\", \"occurrence\"], data=all_spin_occus)\n",
    "    \n",
    "    for spin_ang_lim in [10.0, 170.0]:\n",
    "        if spin_ang_lim == 10.0:\n",
    "            sub_df = all_spin_occus_df.loc[all_spin_occus_df[\"spin_angle\"] <= spin_ang_lim]\n",
    "        else:\n",
    "            sub_df = all_spin_occus_df.loc[all_spin_occus_df[\"spin_angle\"] >= spin_ang_lim]\n",
    "\n",
    "        spin_ang_lim_string = f\">=_{spin_ang_lim}_spin_angle\" if spin_ang_lim == 170.0 else f\"<=_{spin_ang_lim}_spin_angle\"\n",
    "\n",
    "        one_d_fig = go.Figure(layout=go.Layout(xaxis=go.layout.XAxis(title=\"Bond angle (°)\"),\n",
    "                                       yaxis=go.layout.YAxis(title=\"Occurrence\"),\n",
    "                                       title=f\"{data_string} ({entries} structures ({almost_collinear_entries} almost coll.), {np.sum(sub_df.occurrence.values)} / {np.sum(all_spin_occus_df.occurrence.values)} occurrences), {ligand_multiplicity_string}, {normalize_string}, spin_ang_lim = {spin_ang_lim}°\"))\n",
    "\n",
    "\n",
    "        one_d_fig.add_trace(go.Histogram(\n",
    "            histfunc=\"sum\",\n",
    "            x=sub_df[\"bond_angle\"].values,\n",
    "            y=sub_df[\"occurrence\"].values,\n",
    "            nbinsx=181,\n",
    "            name=spin_ang_lim,\n",
    "            marker_color=\"#025268\"\n",
    "        ))\n",
    "        one_d_fig = pretty_plot(one_d_fig)\n",
    "        one_d_fig.update_layout(legend_title_text=\"Spin angle (°)\",  titlefont=dict(size=9))\n",
    "        if not \"oxygen\" in data_string:\n",
    "            one_d_fig.update_layout(yaxis_range=[0, 450], xaxis_range=[57, 182])\n",
    "        else:\n",
    "            one_d_fig.update_layout(yaxis_range=[0, 290], xaxis_range=[70, 182])\n",
    "        one_d_fig.update_yaxes(zeroline=False)\n",
    "        one_d_fig.write_image(f\"plots/TM_octahedra_analysis_include_crystallographic_multiples/{data_string}_{normalize_string}_{ligand_multiplicity_string}_{spin_ang_lim_string}.pdf\")"
   ]
  },
  {
   "cell_type": "code",
   "execution_count": 7,
   "id": "f5000549169be15",
   "metadata": {
    "ExecuteTime": {
     "end_time": "2025-01-22T17:19:33.080419Z",
     "start_time": "2025-01-22T17:19:14.670578Z"
    }
   },
   "outputs": [
    {
     "name": "stdout",
     "output_type": "stream",
     "text": [
      "------\n",
      "all edges with TM octahedra at both nodes normalized occurrences ligand multiplicity included\n",
      "513 structures with FM and / or AFM interactions (10 deg angle tol).\n",
      "d, p:  (0.36463976805499215, 3.863641802331604e-13)\n",
      "------\n",
      "all oxygen edges with TM octahedra at both nodes normalized occurrences ligand multiplicity included\n",
      "391 structures with FM and / or AFM interactions (10 deg angle tol).\n",
      "d, p:  (0.32586032788034847, 7.10081604922836e-08)\n",
      "------\n",
      "all edges with TM octahedra at both nodes normalized occurrences no ligand multiplicity included\n",
      "513 structures with FM and / or AFM interactions (10 deg angle tol).\n",
      "d, p:  (0.36509696299116506, 6.210477826651713e-13)\n",
      "------\n",
      "all oxygen edges with TM octahedra at both nodes normalized occurrences no ligand multiplicity included\n",
      "391 structures with FM and / or AFM interactions (10 deg angle tol).\n",
      "d, p:  (0.32355049787877477, 1.396031595581634e-07)\n",
      "------\n",
      "all edges with TM octahedra at both nodes absolute occurrences ligand multiplicity included\n",
      "513 structures with FM and / or AFM interactions (10 deg angle tol).\n",
      "d, p:  (0.3186787485319281, 0.0)\n",
      "------\n",
      "all oxygen edges with TM octahedra at both nodes absolute occurrences ligand multiplicity included\n",
      "391 structures with FM and / or AFM interactions (10 deg angle tol).\n",
      "d, p:  (0.3114156081289374, 7.457767314924384e-307)\n",
      "------\n",
      "all edges with TM octahedra at both nodes absolute occurrences no ligand multiplicity included\n",
      "513 structures with FM and / or AFM interactions (10 deg angle tol).\n",
      "d, p:  (0.334135469345733, 3.7997468193e-313)\n",
      "------\n",
      "all oxygen edges with TM octahedra at both nodes absolute occurrences no ligand multiplicity included\n",
      "391 structures with FM and / or AFM interactions (10 deg angle tol).\n",
      "d, p:  (0.3061179172793324, 3.87887839392944e-195)\n"
     ]
    }
   ],
   "source": [
    "# KS test including crystallographic multiples w. 10 deg angle tol between neighboring magnetic vectors\n",
    "for normalize_bool, normalize_string in zip([True, False], [\"normalized occurrences\", \"absolute occurrences\"]):\n",
    "    for ligand_multiplicity_bool, ligand_multiplicity_string in zip([True, False], [\"ligand multiplicity included\", \"no ligand multiplicity included\"]):\n",
    "        for data_string in description:\n",
    "            afm_or_fm_entries = 0\n",
    "            all_spin_occus = []\n",
    "            for md_id, ang_df in all_stats.items():\n",
    "                subdf = ang_df.loc[(ang_df[\"site_ce\"]==\"O:6\")\n",
    "                       & (ang_df[\"site_to_ce\"]==\"O:6\")\n",
    "                       & (ang_df[\"site_is_tm\"])\n",
    "                       & (ang_df[\"site_to_is_tm\"])\n",
    "                ]\n",
    "                if \"oxygen\" in data_string:\n",
    "                    subdf = subdf.loc[subdf[\"ligand_el_set\"]=={\"O\"}]\n",
    "                if not subdf.empty:\n",
    "                    n_lattice_points = df.at[md_id, \"n_lattice_points\"]\n",
    "                    occus = get_bond_angle_occurrences(df=subdf,\n",
    "                                                                     include_ligand_multiplicity=ligand_multiplicity_bool,\n",
    "                                                                     normalize=normalize_bool,\n",
    "                                                                     n_lattice_points=n_lattice_points,\n",
    "                                                                     spin_angle_round=0,\n",
    "                                                                     bond_angle_round=7)\n",
    "                    sp_a = [ls[0] for ls in occus]\n",
    "                    if any([v <= 10.0 for v in sp_a]) or any([v >= 170.0 for v in sp_a]):\n",
    "                        afm_or_fm_entries += 1\n",
    "                    all_spin_occus.extend(occus)\n",
    "            print(\"------\")\n",
    "            print(data_string, normalize_string, ligand_multiplicity_string)\n",
    "            print(f\"{afm_or_fm_entries} structures with FM and / or AFM interactions (10 deg angle tol).\")\n",
    "\n",
    "            fm_occus = [ls for ls in all_spin_occus if ls[0] <= 10.0]\n",
    "            afm_occus = [ls for ls in all_spin_occus if ls[0] >= 170.0]\n",
    "            print(\"d, p: \", compute_ks_weighted(afm_occus, fm_occus))"
   ]
  }
 ],
 "metadata": {
  "kernelspec": {
   "display_name": "Python 3 (ipykernel)",
   "language": "python",
   "name": "python3"
  },
  "language_info": {
   "codemirror_mode": {
    "name": "ipython",
    "version": 3
   },
   "file_extension": ".py",
   "mimetype": "text/x-python",
   "name": "python",
   "nbconvert_exporter": "python",
   "pygments_lexer": "ipython3",
   "version": "3.10.15"
  }
 },
 "nbformat": 4,
 "nbformat_minor": 5
}
